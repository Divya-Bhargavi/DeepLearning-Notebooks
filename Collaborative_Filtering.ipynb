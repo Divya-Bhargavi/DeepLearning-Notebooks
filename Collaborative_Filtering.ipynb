{
  "cells": [
    {
      "cell_type": "markdown",
      "source": [
        "## The Cold Start Problem \n",
        "\n",
        "The colaborative filtering method discussed in class does not address the problem of new user or new movies. What prediction would you use in these cases:\n",
        "\n",
        "* A new user but a known movie\n",
        "* A new movie and a known user\n",
        "* A new user and new movie"
      ],
      "metadata": {
        "deletable": false,
        "editable": false,
        "nbgrader": {
          "checksum": "72f19a9d892bcda62e9635861cacb735",
          "grade": false,
          "grade_id": "cell-5ceae71aaff52339",
          "locked": true,
          "schema_version": 1,
          "solution": false
        }
      }
    },
    {
      "cell_type": "markdown",
      "source": [
        "**A new user but a known movie**\n",
        "* Average value given by other users if the new user never rated any movie.\n",
        "* Average value given by users in similiar demography/ if we have that information.\n",
        "* Use implicit rating to augment the preference of the new user and suggest based on that.\n",
        "\n",
        "**A new movie and a known user**\n",
        "* Cluster movies with similar content as new movie. Take weighted average of ratings based on similarity between new movie and similar movies liked by user.\n",
        "* Find the ratings given by users similar to known user. Take weighted average of ratings based on similarity between know users and others for given movie.\n",
        "\n",
        "**A new user and new movie**\n",
        "* Start with what is trending in the user demography, if we dont have that information, use the global trends. \n",
        "* We could also start collecting the implicit ratings (views/clicks) to tune our recommendation."
      ],
      "metadata": {
        "deletable": false,
        "nbgrader": {
          "checksum": "0da54fb4107cce65314f3692206a2c66",
          "grade": true,
          "grade_id": "cell-65c54ba14a58709f",
          "locked": false,
          "points": 2,
          "schema_version": 1,
          "solution": true
        }
      }
    },
    {
      "cell_type": "markdown",
      "source": [
        "## Matrix Factorization with bias\n",
        "We want to extend the Matrix Factorization model discussed in class to add a \"bias\" parameter for each user and another \"bias\" parameter for each movie.  For the problem in class we had the parameters matrix $U$ and $V$, we are adding $u^0$ which is a vector of dimension $n_u$ and $v^0$ which is a vector of dimension $n_m$. The equations\n",
        "\n",
        "$$\\hat{y}_{ij} = u_{0i} + v_{0j} + u_i \\cdot v_j  $$ \n",
        " \n",
        "(a) How many weights (parameters) are we fitting for this problem?\n",
        "\n(b) Write the gradient descent equations for this problem."
      ],
      "metadata": {
        "deletable": false,
        "editable": false,
        "nbgrader": {
          "checksum": "5d98647caefbe861f117cdde5d30cc40",
          "grade": false,
          "grade_id": "cell-d43d0152c6b4e82f",
          "locked": true,
          "schema_version": 1,
          "solution": false
        }
      }
    },
    {
      "cell_type": "markdown",
      "source": [
        "(a) $$n_u\\cdot(k+1) + n_m\\cdot(k+1)$$\n",
        "(b) Equation : $$Loss(E) = [(\\hat{Y} -  U\\cdot V^T - U_{0} - V_{0}^T)^2 * R]/ N$$\n",
        "\n",
        "* $$ dE / du_{0i} =  -2/N  \\cdot np.sum([\\hat{Y} -  U\\cdot V^T - U_{0} - V_{0}^T]*R, axis = 0)$$    $$u_{0i} = u_{0i} - \\eta * dE / du_{0i}$$\n",
        "\n",
        " $$ dE / dv_{0j} =  -2/N  \\cdot np.sum([\\hat{Y} -  U\\cdot V^T - U_{0} - V_{0}^T]*R, axis = 1)^T$$    $$v_{0j} = v_{0j} - \\eta * dE / dv_{0i}$$\n",
        "\n",
        " $$ dE/ dV = -2/N  \\cdot np.sum(([\\hat{Y} -  U\\cdot V^T - U_{0} - V_{0}^T]*R)\\cdot U))  $$ $$V = V - \\eta * dE / dV$$\n",
        "\n $$ dE/ dU = -2/N  \\cdot np.sum(([\\hat{Y} -  U\\cdot V^T - U_{0} - V_{0}^T]*R)^T\\cdot V))  $$  $$U = U - \\eta * dE / dU$$"
      ],
      "metadata": {
        "deletable": false,
        "nbgrader": {
          "checksum": "582dbd6ac3203c6be51c3b3d89732ff9",
          "grade": true,
          "grade_id": "cell-d553da17ca4564e8",
          "locked": false,
          "points": 5,
          "schema_version": 1,
          "solution": true
        }
      }
    },
    {
      "cell_type": "markdown",
      "source": [
        "# Collaborative Filtering with Gradient Descent \n",
        "\n",
        "In this part of the assignment you will build a collaborative filtering model to predict netflix ratings.  This assignment will step you through how to do this using stochastic gradient descent. The data for this assignment is ...\n",
        "\n",
        "**Instructions:**\n",
        "- Do not use loops (for/while) in your code, unless the instructions explicitly ask you to do so.\n",
        "- DO NOT change paths (-3 points)\n",
        "- DO NOT submit data to github (-2 points)\n",
        "\n",
        "**You will learn to:**\n",
        "- Build the general architecture of a learning algorithm, including:\n",
        "    - Encoding rating data\n",
        "    - Initializing parameters\n",
        "    - Calculating the cost function\n",
        "    - Calculating gradient\n",
        "    - Using an optimization algorithm (gradient descent) \n",
        "    - Predicting on new data\n",
        "- Putting it all together."
      ],
      "metadata": {
        "deletable": false,
        "editable": false,
        "nbgrader": {
          "checksum": "5d46c5ebd4701c30e558eb55caea82a2",
          "grade": false,
          "grade_id": "cell-a3ecbb6da6a04705",
          "locked": true,
          "schema_version": 1,
          "solution": false
        }
      }
    },
    {
      "cell_type": "code",
      "source": [
        "import numpy as np\n",
        "import pandas as pd\n"
      ],
      "outputs": [],
      "execution_count": 1,
      "metadata": {
        "ExecuteTime": {
          "end_time": "2019-01-29T23:02:32.250723Z",
          "start_time": "2019-01-29T23:02:31.837867Z"
        }
      }
    },
    {
      "cell_type": "markdown",
      "source": [
        "## Encoding rating data\n",
        "Here are our very small subset of fake data to get us started."
      ],
      "metadata": {
        "deletable": false,
        "editable": false,
        "nbgrader": {
          "checksum": "bcaa736523b6e2ff0267a99e13938158",
          "grade": false,
          "grade_id": "cell-0ea2a22f6bbdabbc",
          "locked": true,
          "schema_version": 1,
          "solution": false
        }
      }
    },
    {
      "cell_type": "code",
      "source": [
        "# The first row says that user 11 reated movie 1 with a score of 4\n",
        "!cat tiny_training2.csv "
      ],
      "outputs": [
        {
          "output_type": "stream",
          "name": "stdout",
          "text": [
            "userId,movieId,rating\r\n",
            "11,1,4\r\n",
            "11,23,5\r\n",
            "2,23,5\r\n",
            "2,4,3\r\n",
            "31,1,4\r\n",
            "31,23,4\r\n",
            "4,1,5\r\n",
            "4,3,2\r\n",
            "52,1,1\r\n",
            "52,3,4\r\n",
            "61,3,5\r\n",
            "7,23,1\r\n",
            "7,3,3\r\n"
          ]
        }
      ],
      "execution_count": 2,
      "metadata": {
        "ExecuteTime": {
          "end_time": "2019-01-29T23:02:32.369520Z",
          "start_time": "2019-01-29T23:02:32.252664Z"
        }
      }
    },
    {
      "cell_type": "code",
      "source": [
        "# here is a handy function from fast.ai\n",
        "def proc_col(col):\n",
        "    \"\"\"Encodes a pandas column with continous ids. \n",
        "    \"\"\"\n",
        "    uniq = col.unique()\n",
        "    name2idx = {o:i for i,o in enumerate(uniq)}\n",
        "    return name2idx, np.array([name2idx[x] for x in col]), len(uniq)"
      ],
      "outputs": [],
      "execution_count": 3,
      "metadata": {
        "ExecuteTime": {
          "end_time": "2019-01-29T23:02:32.378154Z",
          "start_time": "2019-01-29T23:02:32.372606Z"
        },
        "deletable": false,
        "editable": false,
        "nbgrader": {
          "checksum": "14535f6dc2c9b8a691698d3d28f21b89",
          "grade": false,
          "grade_id": "cell-44b682275c3630cc",
          "locked": true,
          "schema_version": 1,
          "solution": false
        }
      }
    },
    {
      "cell_type": "code",
      "source": [
        "def encode_data(df):\n",
        "    \"\"\"Encodes rating data with continous user and movie ids using \n",
        "    the helpful fast.ai function from above.\n",
        "    \n",
        "    Arguments:\n",
        "      train_csv: a csv file with columns user_id,movie_id,rating \n",
        "    \n",
        "    Returns:\n",
        "      df: a dataframe with the encode data\n",
        "      num_users\n",
        "      num_movies\n",
        "      \n",
        "    \"\"\"\n",
        "    _, df['userId'],num_users = proc_col(df['userId'])\n",
        "    _, df['movieId'],num_movies = proc_col(df['movieId'])\n",
        "    \n",
        "    return df, num_users, num_movies"
      ],
      "outputs": [],
      "execution_count": 4,
      "metadata": {
        "ExecuteTime": {
          "end_time": "2019-01-29T23:02:32.384321Z",
          "start_time": "2019-01-29T23:02:32.380687Z"
        },
        "deletable": false,
        "nbgrader": {
          "checksum": "04f2fd8d1394e69d038ecc4e1d1df6ac",
          "grade": false,
          "grade_id": "cell-41f615ff687624c5",
          "locked": false,
          "schema_version": 1,
          "solution": true
        }
      }
    },
    {
      "cell_type": "code",
      "source": [
        "df = pd.read_csv(\"tiny_training2.csv\")\n",
        "df, num_users, num_movies = encode_data(df)"
      ],
      "outputs": [],
      "execution_count": 5,
      "metadata": {
        "ExecuteTime": {
          "end_time": "2019-01-29T23:02:32.404401Z",
          "start_time": "2019-01-29T23:02:32.386482Z"
        },
        "deletable": false,
        "editable": false,
        "nbgrader": {
          "checksum": "d68d9f144f61298588aa5501486d093b",
          "grade": false,
          "grade_id": "cell-20524cf964cd86f3",
          "locked": true,
          "schema_version": 1,
          "solution": false
        }
      }
    },
    {
      "cell_type": "code",
      "source": [
        "df"
      ],
      "outputs": [
        {
          "output_type": "execute_result",
          "execution_count": 6,
          "data": {
            "text/html": [
              "<div>\n",
              "<style scoped>\n",
              "    .dataframe tbody tr th:only-of-type {\n",
              "        vertical-align: middle;\n",
              "    }\n",
              "\n",
              "    .dataframe tbody tr th {\n",
              "        vertical-align: top;\n",
              "    }\n",
              "\n",
              "    .dataframe thead th {\n",
              "        text-align: right;\n",
              "    }\n",
              "</style>\n",
              "<table border=\"1\" class=\"dataframe\">\n",
              "  <thead>\n",
              "    <tr style=\"text-align: right;\">\n",
              "      <th></th>\n",
              "      <th>userId</th>\n",
              "      <th>movieId</th>\n",
              "      <th>rating</th>\n",
              "    </tr>\n",
              "  </thead>\n",
              "  <tbody>\n",
              "    <tr>\n",
              "      <th>0</th>\n",
              "      <td>0</td>\n",
              "      <td>0</td>\n",
              "      <td>4</td>\n",
              "    </tr>\n",
              "    <tr>\n",
              "      <th>1</th>\n",
              "      <td>0</td>\n",
              "      <td>1</td>\n",
              "      <td>5</td>\n",
              "    </tr>\n",
              "    <tr>\n",
              "      <th>2</th>\n",
              "      <td>1</td>\n",
              "      <td>1</td>\n",
              "      <td>5</td>\n",
              "    </tr>\n",
              "    <tr>\n",
              "      <th>3</th>\n",
              "      <td>1</td>\n",
              "      <td>2</td>\n",
              "      <td>3</td>\n",
              "    </tr>\n",
              "    <tr>\n",
              "      <th>4</th>\n",
              "      <td>2</td>\n",
              "      <td>0</td>\n",
              "      <td>4</td>\n",
              "    </tr>\n",
              "    <tr>\n",
              "      <th>5</th>\n",
              "      <td>2</td>\n",
              "      <td>1</td>\n",
              "      <td>4</td>\n",
              "    </tr>\n",
              "    <tr>\n",
              "      <th>6</th>\n",
              "      <td>3</td>\n",
              "      <td>0</td>\n",
              "      <td>5</td>\n",
              "    </tr>\n",
              "    <tr>\n",
              "      <th>7</th>\n",
              "      <td>3</td>\n",
              "      <td>3</td>\n",
              "      <td>2</td>\n",
              "    </tr>\n",
              "    <tr>\n",
              "      <th>8</th>\n",
              "      <td>4</td>\n",
              "      <td>0</td>\n",
              "      <td>1</td>\n",
              "    </tr>\n",
              "    <tr>\n",
              "      <th>9</th>\n",
              "      <td>4</td>\n",
              "      <td>3</td>\n",
              "      <td>4</td>\n",
              "    </tr>\n",
              "    <tr>\n",
              "      <th>10</th>\n",
              "      <td>5</td>\n",
              "      <td>3</td>\n",
              "      <td>5</td>\n",
              "    </tr>\n",
              "    <tr>\n",
              "      <th>11</th>\n",
              "      <td>6</td>\n",
              "      <td>1</td>\n",
              "      <td>1</td>\n",
              "    </tr>\n",
              "    <tr>\n",
              "      <th>12</th>\n",
              "      <td>6</td>\n",
              "      <td>3</td>\n",
              "      <td>3</td>\n",
              "    </tr>\n",
              "  </tbody>\n",
              "</table>\n",
              "</div>"
            ],
            "text/plain": [
              "    userId  movieId  rating\n",
              "0        0        0       4\n",
              "1        0        1       5\n",
              "2        1        1       5\n",
              "3        1        2       3\n",
              "4        2        0       4\n",
              "5        2        1       4\n",
              "6        3        0       5\n",
              "7        3        3       2\n",
              "8        4        0       1\n",
              "9        4        3       4\n",
              "10       5        3       5\n",
              "11       6        1       1\n",
              "12       6        3       3"
            ]
          },
          "metadata": {}
        }
      ],
      "execution_count": 6,
      "metadata": {
        "ExecuteTime": {
          "end_time": "2019-01-29T23:02:32.421449Z",
          "start_time": "2019-01-29T23:02:32.406209Z"
        }
      }
    },
    {
      "cell_type": "code",
      "source": [
        "assert(num_users == 7)"
      ],
      "outputs": [],
      "execution_count": 7,
      "metadata": {
        "ExecuteTime": {
          "end_time": "2019-01-29T23:02:32.428143Z",
          "start_time": "2019-01-29T23:02:32.423766Z"
        },
        "deletable": false,
        "editable": false,
        "nbgrader": {
          "checksum": "cb4c9b3ca5958683ecdee3371402ee4f",
          "grade": true,
          "grade_id": "cell-9f450c8da332e44a",
          "locked": true,
          "points": 1,
          "schema_version": 1,
          "solution": false
        }
      }
    },
    {
      "cell_type": "code",
      "source": [
        "assert(num_movies == 4)"
      ],
      "outputs": [],
      "execution_count": 8,
      "metadata": {
        "ExecuteTime": {
          "end_time": "2019-01-29T23:02:32.432971Z",
          "start_time": "2019-01-29T23:02:32.430393Z"
        },
        "deletable": false,
        "editable": false,
        "nbgrader": {
          "checksum": "bb477356d1545f228d80f646789249a5",
          "grade": true,
          "grade_id": "cell-e2782b6d1a8b7e78",
          "locked": true,
          "points": 1,
          "schema_version": 1,
          "solution": false
        }
      }
    },
    {
      "cell_type": "code",
      "source": [
        "np.testing.assert_equal(df[\"userId\"].values, np.array([0, 0, 1, 1, 2, 2, 3, 3, 4, 4, 5, 6, 6]))"
      ],
      "outputs": [],
      "execution_count": 9,
      "metadata": {
        "ExecuteTime": {
          "end_time": "2019-01-29T23:02:32.437910Z",
          "start_time": "2019-01-29T23:02:32.434936Z"
        },
        "deletable": false,
        "editable": false,
        "nbgrader": {
          "checksum": "509058ab6b95b9e9f9e997fb92bc42ee",
          "grade": true,
          "grade_id": "cell-33d1f1e347947a47",
          "locked": true,
          "points": 1,
          "schema_version": 1,
          "solution": false
        }
      }
    },
    {
      "cell_type": "code",
      "source": [],
      "outputs": [],
      "execution_count": null,
      "metadata": {
        "deletable": false,
        "editable": false,
        "nbgrader": {
          "checksum": "fa3e28917ed5d2f1cc3f20d31be5f9e2",
          "grade": true,
          "grade_id": "cell-a17fa0331b6be94d",
          "locked": true,
          "points": 2,
          "schema_version": 1,
          "solution": false
        }
      }
    },
    {
      "cell_type": "markdown",
      "source": [
        "## Initializing parameters"
      ],
      "metadata": {
        "deletable": false,
        "editable": false,
        "nbgrader": {
          "checksum": "b7493f49eec0c1e8e0cb10e3cb3082f0",
          "grade": false,
          "grade_id": "cell-72490bca925d342a",
          "locked": true,
          "schema_version": 1,
          "solution": false
        }
      }
    },
    {
      "cell_type": "code",
      "source": [
        "def create_embedings(n, K):\n",
        "    \"\"\" Create a numpy random matrix of shape n, K\n",
        "    \n",
        "    The random matrix should be initialized with uniform values in (0, 6/K)\n",
        "    Arguments:\n",
        "    \n",
        "    Inputs:\n",
        "    n: number of items/users\n",
        "    K: number of factors in the embeding \n",
        "    \n",
        "    Returns:\n",
        "    emb: numpy array of shape (n, num_factors)\n",
        "    \"\"\"\n",
        "    np.random.seed(3)\n",
        "    emb = 6*np.random.random((n, K)) / K\n",
        "    return emb\n",
        "\n",
        "# here is an example on how the prediction matrix would look like with 7 users and 5 movies\n",
        "np.dot(create_embedings(7,3), create_embedings(5,3).transpose())"
      ],
      "outputs": [
        {
          "output_type": "execute_result",
          "execution_count": 10,
          "data": {
            "text/plain": [
              "array([[3.55790894, 4.69774849, 0.92361109, 1.58739544, 3.00593239],\n",
              "       [4.69774849, 7.44656163, 1.18135616, 2.64524868, 4.74559066],\n",
              "       [0.92361109, 1.18135616, 0.24548062, 0.34025121, 0.69616965],\n",
              "       [1.58739544, 2.64524868, 0.34025121, 1.61561   , 2.41361975],\n",
              "       [3.00593239, 4.74559066, 0.69616965, 2.41361975, 3.82505541],\n",
              "       [2.02000808, 3.29656257, 0.43174569, 2.065911  , 3.07264619],\n",
              "       [2.07691001, 3.02887291, 0.53270924, 1.02482544, 1.90251125]])"
            ]
          },
          "metadata": {}
        }
      ],
      "execution_count": 10,
      "metadata": {
        "ExecuteTime": {
          "end_time": "2019-01-29T23:02:32.447733Z",
          "start_time": "2019-01-29T23:02:32.440082Z"
        },
        "deletable": false,
        "editable": false,
        "nbgrader": {
          "checksum": "86ad5b49b1e7774aa007d3708b4e20b2",
          "grade": false,
          "grade_id": "cell-86cdf4ce1a4fb8f7",
          "locked": true,
          "schema_version": 1,
          "solution": false
        }
      }
    },
    {
      "cell_type": "markdown",
      "source": [
        "## Encoding Y as a sparse matrix\n",
        "This code helps you encode a $Y$ as a sparse matrix from the dataframe. "
      ],
      "metadata": {
        "deletable": false,
        "editable": false,
        "nbgrader": {
          "checksum": "77e65bbf9979c9e70ff4f51fd6f205cf",
          "grade": false,
          "grade_id": "cell-beef892ffe04476e",
          "locked": true,
          "schema_version": 1,
          "solution": false
        }
      }
    },
    {
      "cell_type": "code",
      "source": [
        "from scipy import sparse\n",
        "def df2matrix(df, nrows, ncols, column_name=\"rating\"):\n",
        "    \"\"\" Returns a sparse matrix constructed from a dataframe\n",
        "    \n",
        "    This code assumes the df has columns: MovieID,UserID,Rating\n",
        "    \"\"\"\n",
        "    values = df[column_name].values\n",
        "    ind_movie = df['movieId'].values\n",
        "    ind_user = df['userId'].values\n",
        "    return sparse.csc_matrix((values,(ind_user, ind_movie)),shape=(nrows, ncols))"
      ],
      "outputs": [],
      "execution_count": 11,
      "metadata": {
        "ExecuteTime": {
          "end_time": "2019-01-29T23:02:32.472697Z",
          "start_time": "2019-01-29T23:02:32.449844Z"
        },
        "deletable": false,
        "editable": false,
        "nbgrader": {
          "checksum": "ba9e920654a0367a71735df88ee64424",
          "grade": false,
          "grade_id": "cell-147015e836174cf4",
          "locked": true,
          "schema_version": 1,
          "solution": false
        }
      }
    },
    {
      "cell_type": "code",
      "source": [
        "df = pd.read_csv(\"tiny_training2.csv\")\n",
        "df, num_users, num_movies = encode_data(df)\n",
        "Y = df2matrix(df, num_users, num_movies)"
      ],
      "outputs": [],
      "execution_count": 12,
      "metadata": {
        "ExecuteTime": {
          "end_time": "2019-01-29T23:02:32.479801Z",
          "start_time": "2019-01-29T23:02:32.474186Z"
        },
        "deletable": false,
        "editable": false,
        "nbgrader": {
          "checksum": "5ab1d3d656625a82019fe4f03ba236ca",
          "grade": false,
          "grade_id": "cell-18d0b3280aeb27b0",
          "locked": true,
          "schema_version": 1,
          "solution": false
        }
      }
    },
    {
      "cell_type": "code",
      "source": [
        "print(Y)"
      ],
      "outputs": [
        {
          "output_type": "stream",
          "name": "stdout",
          "text": [
            "  (0, 0)\t4\n",
            "  (2, 0)\t4\n",
            "  (3, 0)\t5\n",
            "  (4, 0)\t1\n",
            "  (0, 1)\t5\n",
            "  (1, 1)\t5\n",
            "  (2, 1)\t4\n",
            "  (6, 1)\t1\n",
            "  (1, 2)\t3\n",
            "  (3, 3)\t2\n",
            "  (4, 3)\t4\n",
            "  (5, 3)\t5\n",
            "  (6, 3)\t3\n"
          ]
        }
      ],
      "execution_count": 13,
      "metadata": {
        "ExecuteTime": {
          "end_time": "2019-01-29T23:02:32.484796Z",
          "start_time": "2019-01-29T23:02:32.481750Z"
        }
      }
    },
    {
      "cell_type": "markdown",
      "source": [
        "## Predicting Ratings"
      ],
      "metadata": {}
    },
    {
      "cell_type": "code",
      "source": [
        "def predict(df, emb_user, emb_movie):\n",
        "    \"\"\" This function computes df[\"prediction\"] without doing (U*V^T).\n",
        "    \n",
        "    Compute df[\"prediction\"] by using elementwise multiplication of the corresponding embeddings and then \n",
        "    sum to get the prediction u_i*v_j. This avoids creating the dense matrix U*V^T.\n",
        "    \"\"\"\n",
        "    df['prediction'] = np.multiply(emb_user[df['userId']] , emb_movie[df['movieId']]).sum(axis = 1)\n",
        "    return df"
      ],
      "outputs": [],
      "execution_count": 14,
      "metadata": {
        "ExecuteTime": {
          "end_time": "2019-01-29T23:02:32.489943Z",
          "start_time": "2019-01-29T23:02:32.486641Z"
        },
        "deletable": false,
        "nbgrader": {
          "checksum": "7e22efa84b65372409c1521b74b711ef",
          "grade": false,
          "grade_id": "cell-c59f98d40119c2b1",
          "locked": false,
          "schema_version": 1,
          "solution": true
        }
      }
    },
    {
      "cell_type": "code",
      "source": [
        "emb_user = np.ones((num_users, 3))\n",
        "emb_movie = np.ones((num_movies, 3))\n",
        "df = predict(df, emb_user, emb_movie)\n",
        "assert(df[\"prediction\"][12] == 3.0)"
      ],
      "outputs": [],
      "execution_count": 15,
      "metadata": {
        "ExecuteTime": {
          "end_time": "2019-01-29T23:02:32.496426Z",
          "start_time": "2019-01-29T23:02:32.491968Z"
        },
        "deletable": false,
        "editable": false,
        "nbgrader": {
          "checksum": "6c9eb30ebd7a298e244c33ec47e53b31",
          "grade": true,
          "grade_id": "cell-7e9322939fc823ac",
          "locked": true,
          "points": 0,
          "schema_version": 1,
          "solution": false
        }
      }
    },
    {
      "cell_type": "code",
      "source": [
        "emb_user = create_embedings(num_users, K=4)\n",
        "emb_movie = create_embedings(num_movies, K=4)\n",
        "df = predict(df, emb_user, emb_movie)\n",
        "pred_12 = df[\"prediction\"][12]\n",
        "assert(np.around(pred_12, decimals=2)== 2.05)"
      ],
      "outputs": [],
      "execution_count": 16,
      "metadata": {
        "ExecuteTime": {
          "end_time": "2019-01-29T23:02:32.501922Z",
          "start_time": "2019-01-29T23:02:32.498383Z"
        },
        "deletable": false,
        "editable": false,
        "nbgrader": {
          "checksum": "3e3d42353ec795a239cda9ed31ad26d7",
          "grade": true,
          "grade_id": "cell-54f0a52cb61a069b",
          "locked": true,
          "points": 1,
          "schema_version": 1,
          "solution": false
        }
      }
    },
    {
      "cell_type": "markdown",
      "source": [
        "## Calculating the cost function"
      ],
      "metadata": {
        "deletable": false,
        "editable": false,
        "nbgrader": {
          "checksum": "49c30ebd232f8c363d4551fe16fdb801",
          "grade": false,
          "grade_id": "cell-34b067092cd650f9",
          "locked": true,
          "schema_version": 1,
          "solution": false
        }
      }
    },
    {
      "cell_type": "code",
      "source": [
        "# Use vectorized computation for this function. No loops!\n",
        "# Hint: use predict function\n",
        "def cost(df, emb_user, emb_movie):\n",
        "    \"\"\" Computes mean square error\n",
        "    \n",
        "    First compute prediction using the predict function.\n",
        "    Prediction for user i and movie j is emb_user[i]*emb_movie[j]\n",
        "    \n",
        "    Arguments:\n",
        "      df: dataframe with all data or a subset of the data\n",
        "      emb_user: embedings for users\n",
        "      emb_movie: embedings for movies\n",
        "      \n",
        "    Returns:\n",
        "      error(float): this is the MSE\n",
        "    \"\"\"\n",
        "    df = predict(df, emb_user, emb_movie)\n",
        "    error = np.mean(np.square(df['prediction'] - df['rating']))\n",
        "    \n",
        "    return error"
      ],
      "outputs": [],
      "execution_count": 17,
      "metadata": {
        "ExecuteTime": {
          "end_time": "2019-01-29T23:02:32.508092Z",
          "start_time": "2019-01-29T23:02:32.504081Z"
        },
        "deletable": false,
        "nbgrader": {
          "checksum": "a6f9e54edd126b7150b586f7fc574656",
          "grade": false,
          "grade_id": "cell-e4b1d37dbcb0c405",
          "locked": false,
          "schema_version": 1,
          "solution": true
        }
      }
    },
    {
      "cell_type": "code",
      "source": [
        "emb_user = np.ones((num_users, 3))\n",
        "emb_movie = np.ones((num_movies, 3))\n",
        "error = cost(df, emb_user, emb_movie)\n",
        "assert(np.around(error, decimals=2) == 2.23)"
      ],
      "outputs": [],
      "execution_count": 18,
      "metadata": {
        "ExecuteTime": {
          "end_time": "2019-01-29T23:02:32.542877Z",
          "start_time": "2019-01-29T23:02:32.509715Z"
        },
        "deletable": false,
        "editable": false,
        "nbgrader": {
          "checksum": "e27109a5852d29a4db2fcd9518f547ee",
          "grade": true,
          "grade_id": "cell-e7b5689049c2f45a",
          "locked": true,
          "points": 1,
          "schema_version": 1,
          "solution": false
        }
      }
    },
    {
      "cell_type": "code",
      "source": [
        "emb_user = create_embedings(num_users, K=4)\n",
        "emb_movie = create_embedings(num_movies, K=4)\n",
        "error = cost(df, emb_user, emb_movie)\n",
        "assert(np.around(error, decimals=2) == 4.36)"
      ],
      "outputs": [],
      "execution_count": 19,
      "metadata": {
        "ExecuteTime": {
          "end_time": "2019-01-29T23:02:32.549420Z",
          "start_time": "2019-01-29T23:02:32.544560Z"
        },
        "deletable": false,
        "editable": false,
        "nbgrader": {
          "checksum": "b010d5b213e9547b4122fa419c2429e3",
          "grade": true,
          "grade_id": "cell-3c0b25b85e65f88b",
          "locked": true,
          "points": 1,
          "schema_version": 1,
          "solution": false
        }
      }
    },
    {
      "cell_type": "markdown",
      "source": [
        "## Calculating gradient"
      ],
      "metadata": {
        "deletable": false,
        "editable": false,
        "nbgrader": {
          "checksum": "d195d7d2bd356f3f7f11cd16bb40acea",
          "grade": false,
          "grade_id": "cell-eecb153a5272d90a",
          "locked": true,
          "schema_version": 1,
          "solution": false
        }
      }
    },
    {
      "cell_type": "code",
      "source": [
        "def finite_difference(df, emb_user, emb_movie, ind_u=None, ind_m=None, k=None):\n",
        "    \"\"\" Computes finite difference on MSE(U, V).\n",
        "    \n",
        "    This function is used for testing the gradient function. \n",
        "    \"\"\"\n",
        "    e = 0.000000001\n",
        "    c1 = cost(df, emb_user, emb_movie)\n",
        "    K = emb_user.shape[1]\n",
        "    x = np.zeros_like(emb_user)\n",
        "    y = np.zeros_like(emb_movie)\n",
        "    if ind_u is not None:\n",
        "        x[ind_u][k] = e\n",
        "    else:\n",
        "        y[ind_m][k] = e\n",
        "    c2 = cost(df, emb_user + x, emb_movie + y)\n",
        "    return (c2 - c1)/e"
      ],
      "outputs": [],
      "execution_count": 20,
      "metadata": {
        "ExecuteTime": {
          "end_time": "2019-01-29T23:02:32.555370Z",
          "start_time": "2019-01-29T23:02:32.551130Z"
        },
        "deletable": false,
        "editable": false,
        "nbgrader": {
          "checksum": "3cb7a507904ee5e83135fb967d762da9",
          "grade": false,
          "grade_id": "cell-745f5e8d9b341426",
          "locked": true,
          "schema_version": 1,
          "solution": false
        }
      }
    },
    {
      "cell_type": "code",
      "source": [
        "def gradient(df, emb_user, emb_movie):\n",
        "    \"\"\" Computes the gradient.\n",
        "    \n",
        "    Hint: First compute df[\"prediction\"]. Then use df2matrix\n",
        "    to get a sparse matrix Y and Y_hat.\n",
        "    \n",
        "    Arguments:\n",
        "      df: dataframe with all data or a subset of the data\n",
        "      Y: sparse representation of df\n",
        "      emb_user: embedings for users\n",
        "      emb_movie: embedings for movies\n",
        "      \n",
        "    Returns:\n",
        "      d_emb_user\n",
        "      d_emb_movie\n",
        "    \"\"\"\n",
        "    df = predict(df, emb_user, emb_movie)\n",
        "    Y = df2matrix(df, emb_user.shape[0], emb_movie.shape[0], column_name=\"rating\")\n",
        "    R = Y.sign().todense()\n",
        "    Y_hat = df2matrix(df,emb_user.shape[0], emb_movie.shape[0], column_name='prediction').todense()\n",
        "\n",
        "    diff = np.multiply(Y.todense(),R) - Y_hat\n",
        "    d_emb_user = -2*(1/len(Y.data))*(np.dot(diff, emb_movie))\n",
        "    d_emb_movie = -2*(1/len(Y.data))*(np.dot(diff.transpose(), emb_user))\n",
        "                                   \n",
        "    \n",
        "    return d_emb_user,d_emb_movie"
      ],
      "outputs": [],
      "execution_count": 21,
      "metadata": {
        "ExecuteTime": {
          "end_time": "2019-01-29T23:02:32.563917Z",
          "start_time": "2019-01-29T23:02:32.557316Z"
        },
        "deletable": false,
        "nbgrader": {
          "checksum": "04eabe7cce41767fb506f777387a99c6",
          "grade": false,
          "grade_id": "cell-6da7b90b116a6712",
          "locked": false,
          "schema_version": 1,
          "solution": true
        }
      }
    },
    {
      "cell_type": "code",
      "source": [
        "K = 3\n",
        "emb_user = create_embedings(num_users, K)\n",
        "emb_movie = create_embedings(num_movies, K)\n",
        "grad_user, grad_movie = gradient(df, emb_user, emb_movie)"
      ],
      "outputs": [],
      "execution_count": 22,
      "metadata": {
        "ExecuteTime": {
          "end_time": "2019-01-29T23:02:32.572752Z",
          "start_time": "2019-01-29T23:02:32.566200Z"
        }
      }
    },
    {
      "cell_type": "code",
      "source": [
        "user=1\n",
        "approx = np.array([finite_difference(df, emb_user, emb_movie, ind_u=user, k=i) for i in range(K)])\n",
        "assert(np.all(np.abs(grad_user[user] - approx) < 0.0001))"
      ],
      "outputs": [],
      "execution_count": 23,
      "metadata": {
        "ExecuteTime": {
          "end_time": "2019-01-29T23:02:32.586521Z",
          "start_time": "2019-01-29T23:02:32.574481Z"
        },
        "deletable": false,
        "editable": false,
        "nbgrader": {
          "checksum": "f03717bfb40d791bdbae0d4d68975429",
          "grade": true,
          "grade_id": "cell-a58a216f11e292b4",
          "locked": true,
          "points": 2,
          "schema_version": 1,
          "solution": false
        }
      }
    },
    {
      "cell_type": "code",
      "source": [
        "movie=1\n",
        "approx = np.array([finite_difference(df, emb_user, emb_movie, ind_m=movie, k=i) for i in range(K)])\n",
        "assert(np.all(np.abs(grad_movie[movie] - approx) < 0.0001))"
      ],
      "outputs": [],
      "execution_count": 24,
      "metadata": {
        "ExecuteTime": {
          "end_time": "2019-01-29T23:02:32.598111Z",
          "start_time": "2019-01-29T23:02:32.588381Z"
        },
        "deletable": false,
        "editable": false,
        "nbgrader": {
          "checksum": "4e6877a8f9d3b394fe84b235b1e4b25b",
          "grade": true,
          "grade_id": "cell-4d60664272f913f0",
          "locked": true,
          "points": 2,
          "schema_version": 1,
          "solution": false
        }
      }
    },
    {
      "cell_type": "markdown",
      "source": [
        "## Using gradient descent with momentum"
      ],
      "metadata": {
        "deletable": false,
        "editable": false,
        "nbgrader": {
          "checksum": "dc8cd2f251b745f930ad1f17ce2ad040",
          "grade": false,
          "grade_id": "cell-75a83a0a289d180c",
          "locked": true,
          "schema_version": 1,
          "solution": false
        }
      }
    },
    {
      "cell_type": "code",
      "source": [
        "# you can use a for loop to iterate through gradient descent\n",
        "def gradient_descent(df, emb_user, emb_movie, iterations=100, learning_rate=0.01, df_val=None):\n",
        "    \"\"\" Computes gradient descent with momentum (0.9) for a number of iterations.\n",
        "    \n",
        "    Prints training cost and validation cost (if df_val is not None) every 50 iterations.\n",
        "    \n",
        "    Returns:\n",
        "    emb_user: the trained user embedding\n",
        "    emb_movie: the trained movie embedding\n",
        "    \"\"\"\n",
        "    Y = df2matrix(df, emb_user.shape[0], emb_movie.shape[0])\n",
        "    cost_train = cost(df, emb_user, emb_movie)\n",
        "    cost_val = None\n",
        "    if df_val is not None:\n",
        "        cost_val = cost(df_val, emb_user, emb_movie)\n",
        "    print(cost_train, cost_val)\n",
        "    grad_user_mom, grad_movie_mom = gradient(df,emb_user,emb_movie)\n",
        "    emb_user = emb_user - learning_rate  * grad_user_mom \n",
        "    emb_movie = emb_movie - learning_rate * grad_movie_mom\n",
        "    \n",
        "\n",
        "    for i in range(iterations-1):\n",
        "\n",
        "        grad_user,grad_movie = gradient(df,emb_user,emb_movie)\n",
        "        grad_user_mom = .9*grad_user_mom+.1*grad_user\n",
        "        grad_movie_mom = .9*grad_movie_mom + .1*grad_movie\n",
        "        emb_user = emb_user - learning_rate  * grad_user_mom \n",
        "        emb_movie = emb_movie - learning_rate * grad_movie_mom\n",
        "        cost_train = cost(df, emb_user, emb_movie)\n",
        "        if df_val is not None:\n",
        "            cost_val = cost(df_val, emb_user, emb_movie)\n",
        "\n",
        "        if i%50 == 0:\n",
        "            print(cost_train, cost_val)\n",
        "    return emb_user, emb_movie"
      ],
      "outputs": [],
      "execution_count": 25,
      "metadata": {
        "ExecuteTime": {
          "end_time": "2019-01-29T23:02:32.605951Z",
          "start_time": "2019-01-29T23:02:32.600517Z"
        },
        "deletable": false,
        "nbgrader": {
          "checksum": "b7777a7ac0cc550d5d2626e05c036ce3",
          "grade": false,
          "grade_id": "cell-ddc48938c215e395",
          "locked": false,
          "schema_version": 1,
          "solution": true
        }
      }
    },
    {
      "cell_type": "code",
      "source": [
        "emb_user = create_embedings(num_users, 3)\n",
        "emb_movie = create_embedings(num_movies, 3)\n",
        "emb_user, emb_movie = gradient_descent(df, emb_user, emb_movie, iterations=200, learning_rate=0.01)"
      ],
      "outputs": [
        {
          "output_type": "stream",
          "name": "stdout",
          "text": [
            "4.765335560733245 None\n",
            "4.542728284061158 None\n",
            "1.650386132464952 None\n",
            "0.9595365363702619 None\n",
            "0.6910673020186648 None\n"
          ]
        }
      ],
      "execution_count": 26,
      "metadata": {
        "ExecuteTime": {
          "end_time": "2019-01-29T23:02:32.976723Z",
          "start_time": "2019-01-29T23:02:32.607766Z"
        }
      }
    },
    {
      "cell_type": "code",
      "source": [
        "train_mse = cost(df, emb_user, emb_movie)\n",
        "assert(np.around(train_mse, decimals=2) == 0.53)"
      ],
      "outputs": [],
      "execution_count": 27,
      "metadata": {
        "ExecuteTime": {
          "end_time": "2019-01-29T23:02:32.982693Z",
          "start_time": "2019-01-29T23:02:32.978855Z"
        },
        "deletable": false,
        "editable": false,
        "nbgrader": {
          "checksum": "427c2fa6fb1f89a88ae69589e9296744",
          "grade": true,
          "grade_id": "cell-d4f1184eccf7ebe0",
          "locked": true,
          "points": 2,
          "schema_version": 1,
          "solution": false
        }
      }
    },
    {
      "cell_type": "markdown",
      "source": [
        "## Predicting on new data\n",
        "Now we should write a function that given new data is able to predict ratings. First we write a function that encodes new data. If a new user or item is present that row should be remove. Collaborative Filtering is not good at handling new users or new items. To help with this task, you could write a an auxiliary function similar to `proc_col`."
      ],
      "metadata": {
        "deletable": false,
        "editable": false,
        "nbgrader": {
          "checksum": "d63781170ae7aac4f48c6d44afda64e7",
          "grade": false,
          "grade_id": "cell-7b4ece4b4a308a5f",
          "locked": true,
          "schema_version": 1,
          "solution": false
        }
      }
    },
    {
      "cell_type": "code",
      "source": [
        "def encode_new_data(df_val, df_train):\n",
        "    \"\"\" Encodes df_val with the same encoding as df_train.\n",
        "    Returns:\n",
        "    df_val: dataframe with the same encoding as df_train\n",
        "    \"\"\"\n",
        "    user2indx, _, _ = proc_col(df_train['userId'])\n",
        "    movie2indx, _, _ = proc_col(df_train['movieId'])\n",
        "    valCol_user = df_val['userId'].apply(lambda x: user2indx[x] if x in user2indx else -1 )\n",
        "    valCol_movie = df_val['movieId'].apply(lambda x: movie2indx[x] if x in movie2indx else -1 )\n",
        "    df_val['userId'] = valCol_user\n",
        "    df_val['movieId'] = valCol_movie\n",
        "    df_val = df_val[(df_val['userId'] != -1) & (df_val['movieId'] != -1)]\n",
        "    \n",
        "    return df_val"
      ],
      "outputs": [],
      "execution_count": 28,
      "metadata": {
        "ExecuteTime": {
          "end_time": "2019-01-29T23:02:32.990476Z",
          "start_time": "2019-01-29T23:02:32.984738Z"
        },
        "deletable": false,
        "nbgrader": {
          "checksum": "89b34542423f352f952b8e049875b7ec",
          "grade": false,
          "grade_id": "cell-6535ac40f1132e10",
          "locked": false,
          "schema_version": 1,
          "solution": true
        }
      }
    },
    {
      "cell_type": "code",
      "source": [
        "df_t = pd.read_csv(\"tiny_training2.csv\")\n",
        "df_v = pd.read_csv(\"tiny_val2.csv\")\n",
        "df_v = encode_new_data(df_v, df_t)"
      ],
      "outputs": [],
      "execution_count": 29,
      "metadata": {
        "ExecuteTime": {
          "end_time": "2019-01-29T23:02:33.002066Z",
          "start_time": "2019-01-29T23:02:32.993566Z"
        }
      }
    },
    {
      "cell_type": "code",
      "source": [
        "assert(len(df_v.userId.unique())==2)"
      ],
      "outputs": [],
      "execution_count": 30,
      "metadata": {
        "ExecuteTime": {
          "end_time": "2019-01-29T23:02:33.008204Z",
          "start_time": "2019-01-29T23:02:33.004024Z"
        },
        "deletable": false,
        "editable": false,
        "nbgrader": {
          "checksum": "c3738c156a5eea374d2f22cdd05d6090",
          "grade": true,
          "grade_id": "cell-7f72f7f728540e68",
          "locked": true,
          "points": 1,
          "schema_version": 1,
          "solution": false
        }
      }
    },
    {
      "cell_type": "code",
      "source": [
        "assert(len(df_v) == 2)"
      ],
      "outputs": [],
      "execution_count": 31,
      "metadata": {
        "ExecuteTime": {
          "end_time": "2019-01-29T23:02:33.014491Z",
          "start_time": "2019-01-29T23:02:33.011932Z"
        },
        "deletable": false,
        "editable": false,
        "nbgrader": {
          "checksum": "2e35bcd786010b0c84c3ce4218505a33",
          "grade": true,
          "grade_id": "cell-1b3ccc161bd551e7",
          "locked": true,
          "points": 1,
          "schema_version": 1,
          "solution": false
        }
      }
    },
    {
      "cell_type": "markdown",
      "source": [
        "## Putting it all together\n",
        "For this part you should get data from here\n",
        "`wget http://files.grouplens.org/datasets/movielens/ml-latest-small.zip`"
      ],
      "metadata": {
        "deletable": false,
        "editable": false,
        "nbgrader": {
          "checksum": "8c745aa81080e9eb97ef9f23953fcabf",
          "grade": false,
          "grade_id": "cell-0033372e0e9accd9",
          "locked": true,
          "schema_version": 1,
          "solution": false
        }
      }
    },
    {
      "cell_type": "code",
      "source": [
        "# Don't change this path use a simlink if you have the data somewhere else\n",
        "path = \"ml-latest-small/\"\n",
        "data = pd.read_csv(path + \"ratings.csv\")\n",
        "# sorting by timestamp take as validation data the most recent data doesn't work so let's just take 20%\n",
        "# at random\n",
        "np.random.seed(3)\n",
        "msk = np.random.rand(len(data)) < 0.8\n",
        "train = data[msk].copy()\n",
        "val = data[~msk].copy()\n",
        "df_train, num_users, num_movies = encode_data(train.copy())\n",
        "df_val = encode_new_data(val.copy(), train.copy())\n",
        "print(len(val), len(df_val))"
      ],
      "outputs": [
        {
          "output_type": "stream",
          "name": "stdout",
          "text": [
            "20386 19591\n"
          ]
        }
      ],
      "execution_count": 32,
      "metadata": {
        "ExecuteTime": {
          "end_time": "2019-01-29T23:02:33.205150Z",
          "start_time": "2019-01-29T23:02:33.016261Z"
        }
      }
    },
    {
      "cell_type": "code",
      "source": [
        "K = 50\n",
        "emb_user = create_embedings(num_users, K)\n",
        "emb_movie = create_embedings(num_movies, K)\n",
        "emb_user, emb_movie = gradient_descent(df_train, emb_user, emb_movie, iterations=200, learning_rate=1, df_val=df_val)"
      ],
      "outputs": [
        {
          "output_type": "stream",
          "name": "stdout",
          "text": [
            "12.114879435617219 12.201680645501428\n",
            "12.01726704778792 12.106537746029804\n",
            "9.36601375978891 9.494304769287112\n",
            "6.593882562086153 6.7264322075991885\n",
            "4.749827241675142 4.874050651928023\n"
          ]
        }
      ],
      "execution_count": 33,
      "metadata": {
        "ExecuteTime": {
          "end_time": "2019-01-29T23:03:03.949050Z",
          "start_time": "2019-01-29T23:02:33.207378Z"
        },
        "scrolled": false
      }
    },
    {
      "cell_type": "code",
      "source": [
        "train_mse = cost(df_train, emb_user, emb_movie)\n",
        "val_mse = cost(df_val, emb_user, emb_movie)\n",
        "print(train_mse, val_mse)"
      ],
      "outputs": [
        {
          "output_type": "stream",
          "name": "stdout",
          "text": [
            "3.756714365159779 3.8685464737636472\n"
          ]
        }
      ],
      "execution_count": 34,
      "metadata": {
        "ExecuteTime": {
          "end_time": "2019-01-29T23:03:04.023554Z",
          "start_time": "2019-01-29T23:03:03.950718Z"
        }
      }
    },
    {
      "cell_type": "markdown",
      "source": [
        "Please check that when you run gradient descent for 2000 iterations. `val_mse` should be around 0.855"
      ],
      "metadata": {}
    },
    {
      "cell_type": "code",
      "source": [
        "train_mse = cost(df_train, emb_user, emb_movie)\n",
        "assert(np.around(train_mse, decimals=1) == 3.8)"
      ],
      "outputs": [],
      "execution_count": 35,
      "metadata": {
        "ExecuteTime": {
          "end_time": "2019-01-29T23:03:04.063942Z",
          "start_time": "2019-01-29T23:03:04.025744Z"
        },
        "deletable": false,
        "editable": false,
        "nbgrader": {
          "checksum": "7bcf41243c3e6ffd74e17660e23ef4e4",
          "grade": true,
          "grade_id": "cell-edcc7b88956c5e27",
          "locked": true,
          "points": 0,
          "schema_version": 1,
          "solution": false
        }
      }
    },
    {
      "cell_type": "code",
      "source": [
        "# K = 50\n",
        "# emb_user = create_embedings(num_users, K)\n",
        "# emb_movie = create_embedings(num_movies, K)\n",
        "# emb_user, emb_movie = gradient_descent(df_train, emb_user, emb_movie, iterations=2000, learning_rate=1, df_val=df_val)"
      ],
      "outputs": [],
      "execution_count": null,
      "metadata": {
        "ExecuteTime": {
          "end_time": "2019-01-29T23:03:20.859183Z",
          "start_time": "2019-01-29T23:03:04.065728Z"
        },
        "deletable": false,
        "nbgrader": {
          "checksum": "021e44a09d8ff215dacf6e7581b38219",
          "grade": true,
          "grade_id": "cell-3638271e7060b741",
          "locked": false,
          "points": 2,
          "schema_version": 1,
          "solution": true
        },
        "scrolled": true
      }
    },
    {
      "cell_type": "code",
      "source": [
        "# train_mse = cost(df_train, emb_user, emb_movie)\n",
        "# assert(np.around(train_mse, decimals=3) == 0.856)"
      ],
      "outputs": [],
      "execution_count": null,
      "metadata": {
        "ExecuteTime": {
          "end_time": "2019-01-29T23:03:20.860146Z",
          "start_time": "2019-01-29T23:02:31.938Z"
        }
      }
    }
  ],
  "metadata": {
    "kernelspec": {
      "name": "python3",
      "language": "python",
      "display_name": "Python 3"
    },
    "language_info": {
      "name": "python",
      "version": "3.7.2",
      "mimetype": "text/x-python",
      "codemirror_mode": {
        "name": "ipython",
        "version": 3
      },
      "pygments_lexer": "ipython3",
      "nbconvert_exporter": "python",
      "file_extension": ".py"
    },
    "latex_envs": {
      "bibliofile": "biblio.bib",
      "cite_by": "apalike",
      "current_citInitial": 1,
      "eqLabelWithNumbers": true,
      "eqNumInitial": 0
    },
    "toc": {
      "toc_position": {},
      "skip_h1_title": false,
      "number_sections": true,
      "title_cell": "Table of Contents",
      "toc_window_display": false,
      "base_numbering": 1,
      "toc_section_display": "block",
      "title_sidebar": "Contents",
      "toc_cell": false,
      "nav_menu": {},
      "sideBar": true
    },
    "kernel_info": {
      "name": "python3"
    },
    "nteract": {
      "version": "0.12.3"
    }
  },
  "nbformat": 4,
  "nbformat_minor": 2
}