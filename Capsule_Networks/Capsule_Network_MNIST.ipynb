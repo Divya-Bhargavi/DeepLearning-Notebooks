{
 "cells": [
  {
   "cell_type": "code",
   "execution_count": 1,
   "metadata": {
    "ExecuteTime": {
     "end_time": "2019-01-23T21:12:49.976997Z",
     "start_time": "2019-01-23T21:12:45.893332Z"
    }
   },
   "outputs": [],
   "source": [
    "%reload_ext autoreload\n",
    "%autoreload 2\n",
    "\n",
    "import warnings\n",
    "warnings.filterwarnings('ignore')\n",
    "\n",
    "import pandas as pd\n",
    "import os\n",
    "import numpy as np\n",
    "import torch\n",
    "from torch.autograd import Variable\n",
    "from torch.utils.data import Dataset, DataLoader\n",
    "from torchvision import transforms, utils, models, datasets\n",
    "import torch.optim as optim\n",
    "import torch.nn as nn\n",
    "import torch.nn.functional as F\n",
    "import random\n",
    "from tqdm import tqdm\n",
    "from pathlib import Path\n",
    "import matplotlib.pyplot as plt\n",
    "%matplotlib inline\n",
    "import pickle\n",
    "import csv"
   ]
  },
  {
   "cell_type": "markdown",
   "metadata": {},
   "source": [
    "### Set model parameters"
   ]
  },
  {
   "cell_type": "code",
   "execution_count": 2,
   "metadata": {
    "ExecuteTime": {
     "end_time": "2019-01-24T00:28:21.426086Z",
     "start_time": "2019-01-24T00:28:21.398110Z"
    }
   },
   "outputs": [],
   "source": [
    "# inputs\n",
    "bs = 100\n",
    "img_size = 28\n",
    "\n",
    "# Conv2d parameters\n",
    "cp_inchannel = 1\n",
    "cp_outchannel = 256\n",
    "cp_stride = 1\n",
    "cp_filter = 9\n",
    "\n",
    "# Primary capsule parameters\n",
    "pc_inchannel = 256\n",
    "pc_outchannel = 256\n",
    "pc_stride = 2\n",
    "pc_filter = 9\n",
    "\n",
    "pc_cap_layers = 32\n",
    "pc_cap_len = 8\n",
    "pc_size = 6\n",
    "pc_num_caps = int(pc_size* pc_size * pc_outchannel / pc_cap_len)\n",
    "\n",
    "# routing\n",
    "r_iter = 3\n",
    "\n",
    "# digit caps\n",
    "dc_len = 16\n",
    "dc_dim = 10\n",
    "\n",
    "\n",
    "# loss scale\n",
    "reconst_loss_scale = 0.0005 * img_size**2  \n"
   ]
  },
  {
   "cell_type": "markdown",
   "metadata": {},
   "source": [
    "### Load Data"
   ]
  },
  {
   "cell_type": "code",
   "execution_count": 3,
   "metadata": {
    "ExecuteTime": {
     "end_time": "2019-01-23T21:12:50.043366Z",
     "start_time": "2019-01-23T21:12:50.010867Z"
    }
   },
   "outputs": [],
   "source": [
    "transform = transforms.Compose([\n",
    "                       transforms.ToTensor(),\n",
    "                       transforms.Normalize((0.1307,), (0.3081,))\n",
    "    ])"
   ]
  },
  {
   "cell_type": "code",
   "execution_count": 4,
   "metadata": {
    "ExecuteTime": {
     "end_time": "2019-01-23T21:12:50.681622Z",
     "start_time": "2019-01-23T21:12:50.469536Z"
    }
   },
   "outputs": [],
   "source": [
    "train_ds = datasets.MNIST('data', train = True,\n",
    "                              download = True, transform=transform)\n",
    "test_ds = datasets.MNIST('data', train = False,\n",
    "                             download = True, transform=transform)"
   ]
  },
  {
   "cell_type": "code",
   "execution_count": 5,
   "metadata": {
    "ExecuteTime": {
     "end_time": "2019-01-23T21:12:51.087485Z",
     "start_time": "2019-01-23T21:12:51.056853Z"
    }
   },
   "outputs": [],
   "source": [
    "train_loader = DataLoader(train_ds, batch_size=bs, shuffle=True,num_workers=4)\n",
    "test_loader = DataLoader(test_ds, batch_size=bs, shuffle=False, num_workers=4)"
   ]
  },
  {
   "cell_type": "markdown",
   "metadata": {},
   "source": [
    "### Visualize data"
   ]
  },
  {
   "cell_type": "code",
   "execution_count": 6,
   "metadata": {
    "ExecuteTime": {
     "end_time": "2019-01-23T21:12:51.787924Z",
     "start_time": "2019-01-23T21:12:51.600579Z"
    }
   },
   "outputs": [
    {
     "data": {
      "text/plain": [
       "(100, 100)"
      ]
     },
     "execution_count": 6,
     "metadata": {},
     "output_type": "execute_result"
    }
   ],
   "source": [
    "d = iter(train_loader)\n",
    "x,y = d.next()\n",
    "len(x),len(y)"
   ]
  },
  {
   "cell_type": "code",
   "execution_count": 7,
   "metadata": {
    "ExecuteTime": {
     "end_time": "2019-01-23T21:12:52.174962Z",
     "start_time": "2019-01-23T21:12:52.145061Z"
    }
   },
   "outputs": [],
   "source": [
    "img_size = x.shape[-1]\n"
   ]
  },
  {
   "cell_type": "code",
   "execution_count": 8,
   "metadata": {
    "ExecuteTime": {
     "end_time": "2019-01-23T21:12:52.925914Z",
     "start_time": "2019-01-23T21:12:52.897757Z"
    }
   },
   "outputs": [],
   "source": [
    "# helper function to un-normalize and display an image\n",
    "def imshow(img):\n",
    "    img = img*0.3081 +  0.1307\n",
    "    plt.imshow(np.transpose(img, (1, 2, 0)).squeeze(2), cmap='gray') # convert from Tensor image"
   ]
  },
  {
   "cell_type": "code",
   "execution_count": 9,
   "metadata": {
    "ExecuteTime": {
     "end_time": "2019-01-23T21:12:54.425950Z",
     "start_time": "2019-01-23T21:12:53.803682Z"
    }
   },
   "outputs": [
    {
     "data": {
      "image/png": "[encoded data removed]",
      "text/plain": [
       "<Figure size 1800x288 with 20 Axes>"
      ]
     },
     "metadata": {},
     "output_type": "display_data"
    }
   ],
   "source": [
    "# specify the image classes\n",
    "classes = ['0','1', '2', '3', '4', '5',\n",
    "           '6', '7', '8', '9']\n",
    "# obtain one batch of training images\n",
    "dataiter = iter(train_loader)\n",
    "images, labels = dataiter.next()\n",
    "images = images.numpy() # convert images to numpy for display\n",
    "\n",
    "# plot the images in the batch, along with the corresponding labels\n",
    "fig = plt.figure(figsize=(25, 4))\n",
    "# display 20 images\n",
    "for idx in np.arange(20):\n",
    "    ax = fig.add_subplot(2, 20/2, idx+1, xticks=[], yticks=[])\n",
    "    imshow(images[idx])\n",
    "    ax.set_title(classes[labels[idx]])\n"
   ]
  },
  {
   "cell_type": "markdown",
   "metadata": {},
   "source": [
    "### Define model"
   ]
  },
  {
   "cell_type": "code",
   "execution_count": 10,
   "metadata": {
    "ExecuteTime": {
     "end_time": "2019-01-24T00:30:24.001280Z",
     "start_time": "2019-01-24T00:30:23.963034Z"
    }
   },
   "outputs": [],
   "source": [
    "class CapsNet(nn.Module): \n",
    "    def __init__(self, cp_inchannel ,\n",
    "                    cp_outchannel ,\n",
    "                    cp_stride ,\n",
    "                    cp_filter ,\n",
    "                    pc_inchannel ,\n",
    "                    pc_outchannel ,\n",
    "                    pc_stride ,\n",
    "                    pc_filter ,\n",
    "                    pc_size, \n",
    "                    pc_num_caps, \n",
    "                    dc_len,\n",
    "                    dc_dim,\n",
    "                    r_iter,\n",
    "                    reconst_loss_scale,\n",
    "                    bs):\n",
    "        super(CapsNet, self).__init__()\n",
    "        \n",
    "        self.r_iter = r_iter \n",
    "        \n",
    "        self.conv2d = nn.Conv2d(in_channels=cp_inchannel, out_channels=cp_outchannel, kernel_size=cp_filter, stride=cp_stride)\n",
    "        self.primary_caps = nn.Conv2d(in_channels=pc_inchannel, out_channels=pc_outchannel, kernel_size=pc_filter, stride=pc_stride)\n",
    "        self.num_capsules = pc_size* pc_size * pc_outchannel\n",
    "        self.weights = nn.Parameter(0.01 * torch.randn(1,pc_num_caps,dc_dim,dc_len,pc_cap_len))\n",
    "        self.reconst_loss_scale = reconst_loss_scale\n",
    "        self.reconst_loss = nn.MSELoss()\n",
    "\n",
    "    def forward(self, x):\n",
    "        conv = self.conv2d(x)\n",
    "        conv = F.relu(conv)\n",
    "        pc   = self.primary_caps(conv)\n",
    "        u    = self.squash(pc.permute(0,2,3,1).contiguous().view(conv.shape[0], -1, pc_cap_len)).unsqueeze(-1).unsqueeze(2)\n",
    "        u_hat = torch.matmul(self.weights, u).squeeze(4)\n",
    "        v     = self.routing(u_hat).squeeze(1)\n",
    "        \n",
    "        return v\n",
    "        \n",
    "    def routing(self, u_hat):\n",
    "        \n",
    "        b_ij    = torch.zeros_like(u_hat)\n",
    "        b_ij = b_ij\n",
    "        u_route = u_hat.detach()\n",
    "        for i in range(self.r_iter):\n",
    "            c_ij = F.softmax(b_ij, dim = 2)\n",
    "            if i == (self.r_iter - 1):\n",
    "                s_j = (c_ij*u_hat).sum(dim = 1, keepdim=True)\n",
    "            else:\n",
    "                s_j = (c_ij*u_route).sum(dim = 1, keepdim=True)\n",
    "            \n",
    "            v_j = self.squash(s_j)\n",
    "            \n",
    "            if i < self.r_iter - 1:\n",
    "                b_ij = b_ij+ (u_route*v_j).sum(3, keepdim = True)\n",
    "        \n",
    "        return v_j\n",
    "\n",
    "               \n",
    "    def squash(self, s_j):\n",
    "        s_jnorm = s_j.norm(dim = -1, keepdim = True)\n",
    "        return s_jnorm / (1. + s_jnorm**2) * s_j\n",
    "    \n",
    "    def loss(self, T, v, x_true, x_reconstructed, lambda_param=0.5, m_plus=0.9, m_minus=0.1):     \n",
    "        v_norm = v.norm(dim=2, keepdim=False)\n",
    "        return (T*F.relu(m_plus - v_norm)**2 + lambda_param * (1-T)*F.relu(v_norm - m_minus)**2).sum(1).mean() \\\n",
    "                +self.reconst_loss_scale * self.reconst_loss(x_reconstructed, x_true.reshape((100,784)))"
   ]
  },
  {
   "cell_type": "code",
   "execution_count": 11,
   "metadata": {},
   "outputs": [],
   "source": [
    "class decoder(nn.Module):\n",
    "    def __init__(self, dc_len, dc_dim, img_size):\n",
    "        super(decoder, self).__init__()\n",
    "        self.dc_dim = dc_dim\n",
    "        self.network = nn.Sequential(\n",
    "            nn.Linear(dc_dim * dc_len, 512),\n",
    "            nn.ReLU(inplace=True),\n",
    "            nn.Linear(512, 1024),\n",
    "            nn.ReLU(inplace=True),\n",
    "            nn.Linear(1024, img_size*img_size),\n",
    "            nn.Sigmoid()\n",
    "        )\n",
    "\n",
    "    def forward(self, v, y_ohe):       \n",
    "        return self.network( (y_ohe[:,:,None] * v).view(v.shape[0], -1) )"
   ]
  },
  {
   "cell_type": "code",
   "execution_count": 12,
   "metadata": {
    "ExecuteTime": {
     "end_time": "2019-01-24T00:30:25.051262Z",
     "start_time": "2019-01-24T00:30:25.020007Z"
    }
   },
   "outputs": [],
   "source": [
    "model = CapsNet(cp_inchannel ,\n",
    "                    cp_outchannel ,\n",
    "                    cp_stride ,\n",
    "                    cp_filter ,\n",
    "                    pc_inchannel ,\n",
    "                    pc_outchannel ,\n",
    "                    pc_stride ,\n",
    "                    pc_filter ,\n",
    "                    pc_size, \n",
    "                    pc_num_caps, \n",
    "                    dc_len,\n",
    "                    dc_dim,\n",
    "                    r_iter,\n",
    "                    reconst_loss_scale,\n",
    "                    bs).cuda()\n",
    "\n",
    "decoder = decoder(dc_len, dc_dim, img_size).cuda()"
   ]
  },
  {
   "cell_type": "code",
   "execution_count": 13,
   "metadata": {},
   "outputs": [
    {
     "name": "stdout",
     "output_type": "stream",
     "text": [
      "CapsNet(\n",
      "  (conv2d): Conv2d(1, 256, kernel_size=(9, 9), stride=(1, 1))\n",
      "  (primary_caps): Conv2d(256, 256, kernel_size=(9, 9), stride=(2, 2))\n",
      "  (reconst_loss): MSELoss()\n",
      ")\n",
      "decoder(\n",
      "  (network): Sequential(\n",
      "    (0): Linear(in_features=160, out_features=512, bias=True)\n",
      "    (1): ReLU(inplace)\n",
      "    (2): Linear(in_features=512, out_features=1024, bias=True)\n",
      "    (3): ReLU(inplace)\n",
      "    (4): Linear(in_features=1024, out_features=784, bias=True)\n",
      "    (5): Sigmoid()\n",
      "  )\n",
      ")\n"
     ]
    }
   ],
   "source": [
    "print(model)\n",
    "print(decoder)"
   ]
  },
  {
   "cell_type": "code",
   "execution_count": 14,
   "metadata": {},
   "outputs": [
    {
     "data": {
      "text/plain": [
       "8215568"
      ]
     },
     "execution_count": 14,
     "metadata": {},
     "output_type": "execute_result"
    }
   ],
   "source": [
    "def count_parameters(model):\n",
    "    return sum(p.numel() for p in model.parameters() if p.requires_grad)\n",
    "\n",
    "count_parameters(model) + count_parameters(decoder)"
   ]
  },
  {
   "cell_type": "markdown",
   "metadata": {},
   "source": [
    "### Learning rate finder to get optimal learning rate"
   ]
  },
  {
   "cell_type": "code",
   "execution_count": 15,
   "metadata": {},
   "outputs": [],
   "source": [
    "def get_optimizer(model, lr):\n",
    "    optimiser = torch.optim.Adam(list(model.parameters()) + list(decoder.parameters()),lr = lr)\n",
    "    return optimiser\n",
    "\n",
    "def LR_range_finder(model, train_dl, lr_low=1e-5, lr_high=1, epochs=2):\n",
    "    losses = []\n",
    "\n",
    "    iterations = epochs * len(train_dl)\n",
    "    delta = (lr_high - lr_low)/iterations\n",
    "    lrs = [lr_low + i*delta for i in range(iterations)]\n",
    "    model.train()\n",
    "    ind = 0\n",
    "    for i in range(epochs):\n",
    "        for x_train,y_train in train_dl:\n",
    "            optim = get_optimizer(model, lr=lrs[ind])\n",
    "            x_train = Variable(x_train.cuda())\n",
    "            batch = x_train.shape[0]\n",
    "            y_train_ohe = Variable(torch.eye(10).index_select(dim=0, index=y_train.data).cuda())\n",
    "            v = model(x_train) \n",
    "            # Calculate loss and do backward step\n",
    "            loss = model.loss(y_train_ohe, v, x_train, decoder(v, y_train_ohe ) ) \n",
    "            optim.zero_grad()\n",
    "            loss.backward()\n",
    "            optim.step()\n",
    "            losses.append(loss.item())\n",
    "            ind +=1     \n",
    "\n",
    "    return lrs, losses"
   ]
  },
  {
   "cell_type": "code",
   "execution_count": 17,
   "metadata": {},
   "outputs": [],
   "source": [
    "lrs, losses = LR_range_finder(model, train_loader, lr_low=1e-5, lr_high=1)"
   ]
  },
  {
   "cell_type": "code",
   "execution_count": 20,
   "metadata": {},
   "outputs": [
    {
     "data": {
      "image/png": "[encoded data removed]",
      "text/plain": [
       "<Figure size 432x288 with 1 Axes>"
      ]
     },
     "metadata": {
      "needs_background": "light"
     },
     "output_type": "display_data"
    }
   ],
   "source": [
    "plt.plot([np.log10(l) for l in lrs], losses)\n",
    "plt.xlabel('Log of lr')\n",
    "plt.ylabel('Loss')\n",
    "plt.show()"
   ]
  },
  {
   "cell_type": "code",
   "execution_count": 16,
   "metadata": {},
   "outputs": [],
   "source": [
    "optimiser = torch.optim.Adam(list(model.parameters()) + list(decoder.parameters()))\n",
    "#lr_decay = torch.optim.lr_scheduler.ExponentialLR(optimiser, gamma=0.96**(1/2000.))"
   ]
  },
  {
   "cell_type": "markdown",
   "metadata": {},
   "source": [
    "### Set variable to store results"
   ]
  },
  {
   "cell_type": "code",
   "execution_count": 18,
   "metadata": {},
   "outputs": [],
   "source": [
    "loss_train = 10     # Initialize with arbitrary high value\n",
    "epoch=0\n",
    "\n",
    "losses_train = []\n",
    "losses_test = []\n",
    "\n",
    "acc_train = []\n",
    "acc_test = []\n",
    "\n",
    "min_loss = np.inf\n",
    "\n",
    "version = '1'\n",
    "logfile = open('log_'+version+'.csv', 'w')\n",
    "logwriter = csv.DictWriter(logfile, fieldnames=['epoch', 'train_loss', 'test_loss','accuracy_train', 'accuracy_test'])\n",
    "logwriter.writeheader()"
   ]
  },
  {
   "cell_type": "markdown",
   "metadata": {},
   "source": [
    "### Train Model"
   ]
  },
  {
   "cell_type": "code",
   "execution_count": 19,
   "metadata": {
    "scrolled": false
   },
   "outputs": [
    {
     "name": "stderr",
     "output_type": "stream",
     "text": [
      "100%|██████████| 600/600 [01:39<00:00,  5.89it/s, accuracy_batch=0.99]\n",
      "  0%|          | 0/600 [00:00<?, ?it/s]"
     ]
    },
    {
     "name": "stdout",
     "output_type": "stream",
     "text": [
      "0 0.3375582300126553 0.2745260924100876 0.2745260924100876 0.9472666666666715\n"
     ]
    },
    {
     "name": "stderr",
     "output_type": "stream",
     "text": [
      "100%|██████████| 600/600 [01:41<00:00,  5.93it/s, accuracy_batch=1]   \n",
      "  0%|          | 0/600 [00:00<?, ?it/s]"
     ]
    },
    {
     "name": "stdout",
     "output_type": "stream",
     "text": [
      "1 0.2630006825427214 0.25608342736959455 0.25608342736959455 0.9899666666666712\n"
     ]
    },
    {
     "name": "stderr",
     "output_type": "stream",
     "text": [
      "100%|██████████| 600/600 [01:41<00:00,  5.94it/s, accuracy_batch=0.99]\n",
      "  0%|          | 0/600 [00:00<?, ?it/s]"
     ]
    },
    {
     "name": "stdout",
     "output_type": "stream",
     "text": [
      "2 0.24834568463265896 0.24816119492053987 0.24816119492053987 0.9937833333333366\n"
     ]
    },
    {
     "name": "stderr",
     "output_type": "stream",
     "text": [
      "100%|██████████| 600/600 [01:41<00:00,  5.92it/s, accuracy_batch=0.99]\n",
      "  0%|          | 0/600 [00:00<?, ?it/s]"
     ]
    },
    {
     "name": "stdout",
     "output_type": "stream",
     "text": [
      "3 0.23961940887073677 0.24176292940974237 0.24176292940974237 0.9956000000000025\n"
     ]
    },
    {
     "name": "stderr",
     "output_type": "stream",
     "text": [
      "100%|██████████| 600/600 [01:41<00:00,  5.94it/s, accuracy_batch=1]   \n",
      "  0%|          | 0/600 [00:00<?, ?it/s]"
     ]
    },
    {
     "name": "stdout",
     "output_type": "stream",
     "text": [
      "4 0.23336025709907213 0.23738039761781693 0.23738039761781693 0.9974166666666683\n"
     ]
    },
    {
     "name": "stderr",
     "output_type": "stream",
     "text": [
      "100%|██████████| 600/600 [01:41<00:00,  5.92it/s, accuracy_batch=0.99]\n",
      "  0%|          | 0/600 [00:00<?, ?it/s]"
     ]
    },
    {
     "name": "stdout",
     "output_type": "stream",
     "text": [
      "5 0.22926466343303523 0.23412978693842887 0.23412978693842887 0.998250000000001\n"
     ]
    },
    {
     "name": "stderr",
     "output_type": "stream",
     "text": [
      "100%|██████████| 600/600 [01:41<00:00,  5.93it/s, accuracy_batch=1]   \n",
      "  0%|          | 0/600 [00:00<?, ?it/s]"
     ]
    },
    {
     "name": "stdout",
     "output_type": "stream",
     "text": [
      "6 0.22613918992380302 0.231625519990921 0.231625519990921 0.9988166666666676\n"
     ]
    },
    {
     "name": "stderr",
     "output_type": "stream",
     "text": [
      "100%|██████████| 600/600 [01:41<00:00,  5.94it/s, accuracy_batch=1]   \n",
      "  0%|          | 0/600 [00:00<?, ?it/s]"
     ]
    },
    {
     "name": "stdout",
     "output_type": "stream",
     "text": [
      "7 0.22320543420811495 0.2301058651506901 0.2301058651506901 0.999133333333334\n"
     ]
    },
    {
     "name": "stderr",
     "output_type": "stream",
     "text": [
      "100%|██████████| 600/600 [01:41<00:00,  5.96it/s, accuracy_batch=1]   \n",
      "  0%|          | 0/600 [00:00<?, ?it/s]"
     ]
    },
    {
     "name": "stdout",
     "output_type": "stream",
     "text": [
      "8 0.22060182332992553 0.2275446128845215 0.2275446128845215 0.999516666666667\n"
     ]
    },
    {
     "name": "stderr",
     "output_type": "stream",
     "text": [
      "100%|██████████| 600/600 [01:41<00:00,  5.99it/s, accuracy_batch=1]   \n",
      "  0%|          | 0/600 [00:00<?, ?it/s]"
     ]
    },
    {
     "name": "stdout",
     "output_type": "stream",
     "text": [
      "9 0.218841089134415 0.22661885678768157 0.22661885678768157 0.999616666666667\n"
     ]
    },
    {
     "name": "stderr",
     "output_type": "stream",
     "text": [
      "100%|██████████| 600/600 [01:41<00:00,  5.97it/s, accuracy_batch=0.99]\n"
     ]
    },
    {
     "name": "stdout",
     "output_type": "stream",
     "text": [
      "10 0.21794323538740476 0.22469991013407709 0.22469991013407709 0.9996333333333337\n"
     ]
    }
   ],
   "source": [
    "# Training loop\n",
    "while True:\n",
    "    loss_train = 0\n",
    "    with tqdm(total=len(train_loader)) as pbar:\n",
    "        model.train()\n",
    "        accuracy = 0\n",
    "        for x_train, y_train in train_loader:\n",
    "          \n",
    "            # Model training\n",
    "            x_train = Variable(x_train.cuda())\n",
    "            batch = x_train.shape[0]\n",
    "            y_train_ohe = Variable(torch.eye(10).index_select(dim=0, index=y_train.data).cuda())\n",
    "            \n",
    "            v = model(x_train) \n",
    "            \n",
    "            # Calculate loss and do backward step\n",
    "            loss = model.loss(y_train_ohe, v, x_train, decoder(v, y_train_ohe ) ) \n",
    "            model.zero_grad()\n",
    "            decoder.zero_grad()\n",
    "            loss.backward()\n",
    "            optimiser.step()  \n",
    "            \n",
    "            # Calculates accuracy on batch\n",
    "            _, y_pred_batch = v.norm(p=2, dim=2).max(dim=1)\n",
    "            accuracy = accuracy + np.sum(y_pred_batch.data.cpu().numpy() == y_train.cpu().numpy())/batch\n",
    "            \n",
    "            # Performance reporting \n",
    "            loss_train += loss.item()\n",
    "            pbar.set_postfix(accuracy_batch=\\\n",
    "                             np.sum(y_pred_batch.data.cpu().numpy() == y_train.cpu().numpy())/batch)\n",
    "            pbar.update(1)\n",
    "            #lr_decay.step()\n",
    "    \n",
    "    # Loss and accuracy on train set\n",
    "    loss_train /= len(train_loader)\n",
    "    accuracy /= len(train_loader)\n",
    "    acc_train.append(accuracy)\n",
    "\n",
    "    loss_test_list = []\n",
    "    accuracy_test = 0\n",
    "    \n",
    "    model.eval()\n",
    "    \n",
    "    for x_test, y_test in test_loader:\n",
    "        batch = x_test.shape[0]\n",
    "        x_test = Variable(x_test.cuda())\n",
    "        y_test_ohe = Variable(torch.eye(10).index_select(dim=0, index=y_test.data).cuda())\n",
    "        \n",
    "        v_test_batch = model(x_test)\n",
    "        _, y_test_batch = v_test_batch.norm(p=2, dim=2).max(dim=1)\n",
    "        # Calculates accuracy on batch\n",
    "        accuracy_test = accuracy_test + np.sum(y_test_batch.data.cpu().numpy() == y_test.cpu().numpy())/batch\n",
    "        # Loss\n",
    "        loss_test_list.append( model.loss(y_test_ohe, v_test_batch,\\\n",
    "                                          x_test, decoder(v_test_batch, y_test_ohe)).item())\n",
    "\n",
    "    \n",
    "\n",
    "    # Loss and accuracy on validation set\n",
    "    loss_test = np.mean(loss_test_list)\n",
    "    accuracy_test = accuracy_test/ len(test_loader)\n",
    "    acc_test.append(accuracy_test)\n",
    " \n",
    "    # Stores loss values for train and validation\n",
    "    losses_train.append(loss_train)\n",
    "    losses_test.append(loss_test)\n",
    "    \n",
    "    # Stores model\n",
    "    if loss_test<min_loss: \n",
    "        torch.save(model.state_dict(), 'model_'+version+'.pickle')\n",
    "        torch.save(decoder.state_dict(), 'decode_'+version+'.pickle')\n",
    "        min_loss = loss_test\n",
    "        \n",
    "    \n",
    "        \n",
    "    # Print and log some results\n",
    "    print(epoch, loss_train, loss_test, min_loss, accuracy)\n",
    "    logwriter.writerow(dict(epoch=epoch, train_loss=loss_train,\n",
    "                                test_loss=loss_test, accuracy_train=accuracy, accuracy_test = accuracy_test))\n",
    "\n",
    "    if epoch ==10:\n",
    "        break\n",
    "    epoch += 1"
   ]
  },
  {
   "cell_type": "code",
   "execution_count": 23,
   "metadata": {},
   "outputs": [
    {
     "data": {
      "text/plain": [
       "<matplotlib.legend.Legend at 0x7f0b081d9a58>"
      ]
     },
     "execution_count": 23,
     "metadata": {},
     "output_type": "execute_result"
    },
    {
     "data": {
      "image/png": "[encoded data removed]",
      "text/plain": [
       "<Figure size 720x504 with 1 Axes>"
      ]
     },
     "metadata": {
      "needs_background": "light"
     },
     "output_type": "display_data"
    }
   ],
   "source": [
    "plt.figure(figsize=(10,7))\n",
    "plt.plot(acc_test, label='Accuracy test')\n",
    "plt.plot(acc_train, label='Accuracy train')\n",
    "plt.plot(losses_test, label='Loss test')\n",
    "plt.plot(losses_train, label='Loss train')\n",
    "plt.ylabel('Accuracy / Loss')\n",
    "plt.xlabel('Epoch')\n",
    "plt.ylim((0,2))\n",
    "\n",
    "plt.legend()"
   ]
  },
  {
   "cell_type": "code",
   "execution_count": 26,
   "metadata": {
    "scrolled": true
   },
   "outputs": [
    {
     "data": {
      "text/plain": [
       "<matplotlib.legend.Legend at 0x7f0b0b188860>"
      ]
     },
     "execution_count": 26,
     "metadata": {},
     "output_type": "execute_result"
    },
    {
     "data": {
      "image/png": "[encoded data removed]",
      "text/plain": [
       "<Figure size 720x504 with 1 Axes>"
      ]
     },
     "metadata": {
      "needs_background": "light"
     },
     "output_type": "display_data"
    }
   ],
   "source": [
    "plt.figure(figsize=(10,7))\n",
    "plt.plot([1-a for a in acc_test], label='Accuracy test')\n",
    "plt.plot([1-a for a in acc_train], label='Accuracy train')\n",
    "plt.plot(losses_test, label='Loss test')\n",
    "plt.plot(losses_train, label='Loss train')\n",
    "plt.ylabel('Accuracy / Loss')\n",
    "plt.xlabel('Epoch')\n",
    "plt.ylim((0,0.4))\n",
    "\n",
    "plt.legend()\n",
    "\n"
   ]
  },
  {
   "cell_type": "markdown",
   "metadata": {},
   "source": [
    "#### Validate Dimensions"
   ]
  },
  {
   "cell_type": "code",
   "execution_count": 51,
   "metadata": {
    "ExecuteTime": {
     "end_time": "2019-01-23T23:03:18.972812Z",
     "start_time": "2019-01-23T23:03:18.945110Z"
    }
   },
   "outputs": [],
   "source": [
    "classes =((dc_y ** 2).sum(dim=-1) ** 0.5)"
   ]
  },
  {
   "cell_type": "code",
   "execution_count": 41,
   "metadata": {
    "ExecuteTime": {
     "end_time": "2019-01-23T23:01:36.477946Z",
     "start_time": "2019-01-23T23:01:36.446378Z"
    }
   },
   "outputs": [
    {
     "data": {
      "text/plain": [
       "torch.Size([256, 10])"
      ]
     },
     "execution_count": 41,
     "metadata": {},
     "output_type": "execute_result"
    }
   ],
   "source": [
    "classes.shape"
   ]
  },
  {
   "cell_type": "code",
   "execution_count": 53,
   "metadata": {
    "ExecuteTime": {
     "end_time": "2019-01-23T23:03:31.127955Z",
     "start_time": "2019-01-23T23:03:31.099516Z"
    }
   },
   "outputs": [],
   "source": [
    "classes = F.softmax(classes, dim=-1)"
   ]
  },
  {
   "cell_type": "code",
   "execution_count": 56,
   "metadata": {
    "ExecuteTime": {
     "end_time": "2019-01-23T23:03:45.253765Z",
     "start_time": "2019-01-23T23:03:45.221565Z"
    }
   },
   "outputs": [
    {
     "data": {
      "text/plain": [
       "tensor([[0.1000, 0.1000, 0.1000,  ..., 0.1000, 0.1000, 0.1000],\n",
       "        [0.1000, 0.1000, 0.1000,  ..., 0.1000, 0.1000, 0.1000],\n",
       "        [0.1000, 0.1000, 0.1000,  ..., 0.1000, 0.1000, 0.1000],\n",
       "        ...,\n",
       "        [0.1000, 0.1000, 0.1000,  ..., 0.1000, 0.1000, 0.1000],\n",
       "        [0.1000, 0.1000, 0.1000,  ..., 0.1000, 0.1000, 0.1000],\n",
       "        [0.1000, 0.1000, 0.1000,  ..., 0.1000, 0.1000, 0.1000]],\n",
       "       grad_fn=<SoftmaxBackward>)"
      ]
     },
     "execution_count": 56,
     "metadata": {},
     "output_type": "execute_result"
    }
   ],
   "source": [
    "classes"
   ]
  },
  {
   "cell_type": "code",
   "execution_count": 47,
   "metadata": {
    "ExecuteTime": {
     "end_time": "2019-01-23T23:02:02.092429Z",
     "start_time": "2019-01-23T23:02:02.055903Z"
    }
   },
   "outputs": [
    {
     "data": {
      "text/plain": [
       "torch.Size([256, 10])"
      ]
     },
     "execution_count": 47,
     "metadata": {},
     "output_type": "execute_result"
    }
   ],
   "source": [
    "classes.shape"
   ]
  },
  {
   "cell_type": "code",
   "execution_count": 59,
   "metadata": {
    "ExecuteTime": {
     "end_time": "2019-01-23T23:04:50.082146Z",
     "start_time": "2019-01-23T23:04:50.057727Z"
    }
   },
   "outputs": [],
   "source": [
    "max_length_indices = classes.max(dim=1)[1]"
   ]
  },
  {
   "cell_type": "code",
   "execution_count": 65,
   "metadata": {
    "ExecuteTime": {
     "end_time": "2019-01-23T23:28:58.740599Z",
     "start_time": "2019-01-23T23:28:58.618707Z"
    }
   },
   "outputs": [
    {
     "data": {
      "text/plain": [
       "tensor([8, 2, 8, 8, 5, 2, 0, 5, 8, 6, 2, 8, 1, 6, 5, 2, 5, 6, 0, 2, 6, 9, 8, 5,\n",
       "        4, 8, 8, 6, 5, 2, 8, 5, 9, 3, 3, 4, 9, 2, 2, 5, 8, 8, 2, 8, 2, 6, 1, 3,\n",
       "        2, 8, 1, 5, 8, 9, 6, 1, 9, 9, 6, 8, 6, 2, 3, 3, 4, 8, 4, 9, 3, 5, 5, 0,\n",
       "        8, 5, 0, 5, 5, 0, 5, 5, 0, 2, 5, 8, 2, 6, 3, 8, 3, 5, 8, 9, 2, 5, 1, 9,\n",
       "        5, 2, 5, 5, 2, 2, 4, 6, 7, 0, 0, 6, 1, 2, 6, 3, 3, 2, 9, 5, 8, 2, 5, 5,\n",
       "        3, 0, 5, 2, 9, 8, 8, 5, 5, 5, 8, 9, 1, 5, 4, 5, 5, 1, 8, 9, 8, 6, 8, 1,\n",
       "        5, 5, 6, 6, 9, 8, 6, 8, 8, 2, 9, 5, 8, 8, 8, 5, 0, 5, 9, 8, 1, 2, 2, 2,\n",
       "        8, 8, 5, 6, 8, 0, 5, 2, 3, 8, 6, 5, 9, 5, 8, 5, 2, 2, 9, 1, 1, 5, 8, 5,\n",
       "        2, 3, 2, 6, 2, 4, 6, 3, 1, 2, 3, 8, 9, 5, 2, 2, 6, 3, 8, 9, 5, 7, 4, 5,\n",
       "        9, 5, 5, 5, 8, 2, 5, 1, 2, 8, 8, 3, 5, 9, 5, 9, 8, 6, 5, 1, 5, 4, 1, 8,\n",
       "        6, 6, 5, 8, 6, 6, 9, 6, 2, 5, 6, 8, 2, 2, 5, 4])"
      ]
     },
     "execution_count": 65,
     "metadata": {},
     "output_type": "execute_result"
    }
   ],
   "source": [
    "max_length_indices"
   ]
  },
  {
   "cell_type": "code",
   "execution_count": 78,
   "metadata": {
    "ExecuteTime": {
     "end_time": "2019-01-23T23:39:23.775845Z",
     "start_time": "2019-01-23T23:39:23.667516Z"
    }
   },
   "outputs": [
    {
     "data": {
      "text/plain": [
       "tensor([[-0.0000,  0.0000, -0.0000,  0.0000,  0.0000, -0.0000,  0.0000,  0.0000,\n",
       "          0.0000, -0.0000,  0.0000,  0.0000,  0.0000,  0.0000,  0.0000,  0.0000],\n",
       "        [-0.0000,  0.0000,  0.0000,  0.0000,  0.0000,  0.0000,  0.0000, -0.0000,\n",
       "         -0.0000, -0.0000, -0.0000, -0.0000,  0.0000, -0.0000, -0.0000,  0.0000],\n",
       "        [ 0.0000, -0.0000,  0.0000, -0.0000, -0.0000, -0.0000, -0.0000,  0.0000,\n",
       "         -0.0000,  0.0000, -0.0000, -0.0000,  0.0000,  0.0000,  0.0000, -0.0000],\n",
       "        [ 0.0000, -0.0000,  0.0000, -0.0000,  0.0000,  0.0000, -0.0000,  0.0000,\n",
       "         -0.0000,  0.0000, -0.0000, -0.0000, -0.0000, -0.0000, -0.0000,  0.0000],\n",
       "        [ 0.0000,  0.0000,  0.0000,  0.0000, -0.0000,  0.0000,  0.0000,  0.0000,\n",
       "          0.0000, -0.0000,  0.0000, -0.0000, -0.0000,  0.0000,  0.0000, -0.0000],\n",
       "        [ 0.0000,  0.0000, -0.0000,  0.0000, -0.0000, -0.0000,  0.0000,  0.0000,\n",
       "         -0.0000, -0.0000,  0.0000, -0.0000, -0.0000, -0.0000, -0.0000,  0.0000],\n",
       "        [ 0.0000, -0.0000, -0.0000,  0.0000, -0.0000,  0.0000, -0.0000, -0.0000,\n",
       "         -0.0000, -0.0000, -0.0000, -0.0000, -0.0000,  0.0000,  0.0000,  0.0000],\n",
       "        [ 0.0000, -0.0000,  0.0000, -0.0000,  0.0000, -0.0000,  0.0000,  0.0000,\n",
       "         -0.0000,  0.0000, -0.0000, -0.0000,  0.0000,  0.0000, -0.0000, -0.0000],\n",
       "        [ 0.3568,  0.0781, -0.0158, -0.1757,  0.0953,  0.0791,  0.1248,  0.0616,\n",
       "         -0.0151,  0.1128,  0.0489, -0.0463, -0.3315,  0.5066,  0.6212, -0.1759],\n",
       "        [-0.0000, -0.0000, -0.0000, -0.0000,  0.0000,  0.0000, -0.0000,  0.0000,\n",
       "          0.0000, -0.0000,  0.0000, -0.0000, -0.0000, -0.0000, -0.0000, -0.0000]],\n",
       "       grad_fn=<MulBackward0>)"
      ]
     },
     "execution_count": 78,
     "metadata": {},
     "output_type": "execute_result"
    }
   ],
   "source": [
    "(dc_y[0]*Variable(torch.eye(10).index_select(dim=0, index=max_length_indices.data))[:,:,None][0])"
   ]
  },
  {
   "cell_type": "code",
   "execution_count": 80,
   "metadata": {
    "ExecuteTime": {
     "end_time": "2019-01-23T23:39:40.433155Z",
     "start_time": "2019-01-23T23:39:40.320934Z"
    }
   },
   "outputs": [
    {
     "data": {
      "text/plain": [
       "torch.Size([10, 16])"
      ]
     },
     "execution_count": 80,
     "metadata": {},
     "output_type": "execute_result"
    }
   ],
   "source": [
    "dc_y[0].shape"
   ]
  },
  {
   "cell_type": "code",
   "execution_count": 95,
   "metadata": {
    "ExecuteTime": {
     "end_time": "2019-01-24T00:24:49.549763Z",
     "start_time": "2019-01-24T00:24:49.513574Z"
    }
   },
   "outputs": [
    {
     "data": {
      "text/plain": [
       "tensor([[0.],\n",
       "        [0.],\n",
       "        [0.],\n",
       "        [0.],\n",
       "        [0.],\n",
       "        [0.],\n",
       "        [0.],\n",
       "        [1.],\n",
       "        [0.],\n",
       "        [0.]])"
      ]
     },
     "execution_count": 95,
     "metadata": {},
     "output_type": "execute_result"
    }
   ],
   "source": [
    "Variable(torch.eye(10).index_select(dim=0, index=y_train.data))[:,:,None][0]"
   ]
  },
  {
   "cell_type": "code",
   "execution_count": 22,
   "metadata": {
    "ExecuteTime": {
     "end_time": "2019-01-23T21:39:33.219823Z",
     "start_time": "2019-01-23T21:39:33.180237Z"
    }
   },
   "outputs": [
    {
     "data": {
      "text/plain": [
       "tensor([[1., 0., 0.,  ..., 0., 0., 0.],\n",
       "        [0., 1., 0.,  ..., 0., 0., 0.],\n",
       "        [0., 1., 0.,  ..., 0., 0., 0.],\n",
       "        ...,\n",
       "        [0., 0., 0.,  ..., 0., 0., 1.],\n",
       "        [0., 0., 0.,  ..., 0., 1., 0.],\n",
       "        [0., 0., 0.,  ..., 0., 0., 0.]])"
      ]
     },
     "execution_count": 22,
     "metadata": {},
     "output_type": "execute_result"
    }
   ],
   "source": [
    "torch.eye(10).index_select(index = y, dim = 0).unsqueeze(-1)"
   ]
  },
  {
   "cell_type": "code",
   "execution_count": 18,
   "metadata": {
    "ExecuteTime": {
     "end_time": "2019-01-23T21:38:56.613504Z",
     "start_time": "2019-01-23T21:38:56.583446Z"
    }
   },
   "outputs": [
    {
     "data": {
      "text/plain": [
       "torch.Size([256, 10, 1])"
      ]
     },
     "execution_count": 18,
     "metadata": {},
     "output_type": "execute_result"
    }
   ],
   "source": [
    "torch.eye(10).index_select(index = y, dim = 0).unsqueeze(-1).shape"
   ]
  }
 ],
 "metadata": {
  "kernelspec": {
   "display_name": "Python 3",
   "language": "python",
   "name": "python3"
  },
  "language_info": {
   "codemirror_mode": {
    "name": "ipython",
    "version": 3
   },
   "file_extension": ".py",
   "mimetype": "text/x-python",
   "name": "python",
   "nbconvert_exporter": "python",
   "pygments_lexer": "ipython3",
   "version": "3.7.1"
  },
  "toc": {
   "base_numbering": 1,
   "nav_menu": {},
   "number_sections": true,
   "sideBar": true,
   "skip_h1_title": false,
   "title_cell": "Table of Contents",
   "title_sidebar": "Contents",
   "toc_cell": false,
   "toc_position": {},
   "toc_section_display": true,
   "toc_window_display": false
  }
 },
 "nbformat": 4,
 "nbformat_minor": 2
}
