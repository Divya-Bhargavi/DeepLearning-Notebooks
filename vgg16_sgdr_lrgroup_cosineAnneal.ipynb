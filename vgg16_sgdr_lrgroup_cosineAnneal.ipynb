{
 "cells": [
  {
   "cell_type": "markdown",
   "metadata": {},
   "source": [
    "### Load the required libraries"
   ]
  },
  {
   "cell_type": "code",
   "execution_count": 21,
   "metadata": {},
   "outputs": [],
   "source": [
    "%reload_ext autoreload\n",
    "%autoreload 2\n",
    "\n",
    "import pandas as pd\n",
    "import os\n",
    "import numpy as np\n",
    "import torch\n",
    "from torch.utils.data import Dataset, DataLoader\n",
    "from torchvision import transforms, utils, models, datasets\n",
    "import torch.optim as optim\n",
    "import torch.nn as nn\n",
    "import torch.nn.functional as F\n",
    "import random\n",
    "from pathlib import Path\n",
    "import matplotlib.pyplot as plt\n",
    "%matplotlib inline"
   ]
  },
  {
   "cell_type": "markdown",
   "metadata": {},
   "source": [
    "### Check for GPU"
   ]
  },
  {
   "cell_type": "code",
   "execution_count": 2,
   "metadata": {},
   "outputs": [
    {
     "name": "stdout",
     "output_type": "stream",
     "text": [
      "CUDA is available!  Training on GPU ...\n"
     ]
    }
   ],
   "source": [
    "train_on_gpu = torch.cuda.is_available()\n",
    "\n",
    "if not train_on_gpu:\n",
    "    print('CUDA is not available.  Training on CPU ...')\n",
    "else:\n",
    "    print('CUDA is available!  Training on GPU ...')\n",
    "\n"
   ]
  },
  {
   "cell_type": "markdown",
   "metadata": {},
   "source": [
    "### Choose the transformations on the data"
   ]
  },
  {
   "cell_type": "code",
   "execution_count": 3,
   "metadata": {},
   "outputs": [],
   "source": [
    "transform = transforms.Compose([\n",
    "    \n",
    "    transforms.RandomHorizontalFlip(p=0.5),\n",
    "    transforms.Pad(padding=4,padding_mode='reflect'),\n",
    "    transforms.RandomCrop(size=32),\n",
    "    transforms.ToTensor(),\n",
    "    transforms.Normalize((0.4914, 0.4822, 0.4465), (0.2023, 0.1994, 0.2010))\n",
    "    ])"
   ]
  },
  {
   "cell_type": "markdown",
   "metadata": {},
   "source": [
    "### Train test split"
   ]
  },
  {
   "cell_type": "code",
   "execution_count": 4,
   "metadata": {},
   "outputs": [
    {
     "name": "stdout",
     "output_type": "stream",
     "text": [
      "Files already downloaded and verified\n",
      "Files already downloaded and verified\n"
     ]
    }
   ],
   "source": [
    "train_ds = datasets.CIFAR10('data', train=True,\n",
    "                              download=True, transform=transform)\n",
    "test_ds = datasets.CIFAR10('data', train=False,\n",
    "                             download=True, transform=transform)"
   ]
  },
  {
   "cell_type": "markdown",
   "metadata": {},
   "source": [
    "### Set the values for hyperparameters\n",
    "* Might require changes after checking the learning rate plot"
   ]
  },
  {
   "cell_type": "code",
   "execution_count": 8,
   "metadata": {},
   "outputs": [],
   "source": [
    "bs = 256\n",
    "lr_low = 1e-6\n",
    "lr_high = 1e-2\n",
    "wd = 0.0\n",
    "Pretrained = True\n",
    "learning_rate = 0.0001\n",
    "epochs = 30"
   ]
  },
  {
   "cell_type": "markdown",
   "metadata": {},
   "source": [
    "### Create iterable object with mini-batches"
   ]
  },
  {
   "cell_type": "code",
   "execution_count": 9,
   "metadata": {},
   "outputs": [],
   "source": [
    "train_loader = DataLoader(train_ds, batch_size=bs, shuffle=True)\n",
    "test_loader = DataLoader(test_ds, batch_size=bs, shuffle=False)"
   ]
  },
  {
   "cell_type": "code",
   "execution_count": 23,
   "metadata": {},
   "outputs": [],
   "source": [
    "d = iter(train_loader)"
   ]
  },
  {
   "cell_type": "code",
   "execution_count": 24,
   "metadata": {},
   "outputs": [
    {
     "data": {
      "text/plain": [
       "(256, 256)"
      ]
     },
     "execution_count": 24,
     "metadata": {},
     "output_type": "execute_result"
    }
   ],
   "source": [
    "x,y = d.next()\n",
    "len(x),len(y)"
   ]
  },
  {
   "cell_type": "markdown",
   "metadata": {},
   "source": [
    "### Visualize a Batch of Training Data"
   ]
  },
  {
   "cell_type": "code",
   "execution_count": 10,
   "metadata": {},
   "outputs": [],
   "source": [
    "# helper function to un-normalize and display an image\n",
    "def imshow(img):\n",
    "    img = img / 2 + 0.5  # unnormalize\n",
    "    plt.imshow(np.transpose(img, (1, 2, 0)))  # convert from Tensor image"
   ]
  },
  {
   "cell_type": "code",
   "execution_count": 11,
   "metadata": {},
   "outputs": [
    {
     "name": "stderr",
     "output_type": "stream",
     "text": [
      "Clipping input data to the valid range for imshow with RGB data ([0..1] for floats or [0..255] for integers).\n",
      "Clipping input data to the valid range for imshow with RGB data ([0..1] for floats or [0..255] for integers).\n",
      "Clipping input data to the valid range for imshow with RGB data ([0..1] for floats or [0..255] for integers).\n",
      "Clipping input data to the valid range for imshow with RGB data ([0..1] for floats or [0..255] for integers).\n",
      "Clipping input data to the valid range for imshow with RGB data ([0..1] for floats or [0..255] for integers).\n",
      "Clipping input data to the valid range for imshow with RGB data ([0..1] for floats or [0..255] for integers).\n",
      "Clipping input data to the valid range for imshow with RGB data ([0..1] for floats or [0..255] for integers).\n",
      "Clipping input data to the valid range for imshow with RGB data ([0..1] for floats or [0..255] for integers).\n",
      "Clipping input data to the valid range for imshow with RGB data ([0..1] for floats or [0..255] for integers).\n",
      "Clipping input data to the valid range for imshow with RGB data ([0..1] for floats or [0..255] for integers).\n",
      "Clipping input data to the valid range for imshow with RGB data ([0..1] for floats or [0..255] for integers).\n",
      "Clipping input data to the valid range for imshow with RGB data ([0..1] for floats or [0..255] for integers).\n",
      "Clipping input data to the valid range for imshow with RGB data ([0..1] for floats or [0..255] for integers).\n",
      "Clipping input data to the valid range for imshow with RGB data ([0..1] for floats or [0..255] for integers).\n",
      "Clipping input data to the valid range for imshow with RGB data ([0..1] for floats or [0..255] for integers).\n",
      "Clipping input data to the valid range for imshow with RGB data ([0..1] for floats or [0..255] for integers).\n",
      "Clipping input data to the valid range for imshow with RGB data ([0..1] for floats or [0..255] for integers).\n",
      "Clipping input data to the valid range for imshow with RGB data ([0..1] for floats or [0..255] for integers).\n",
      "Clipping input data to the valid range for imshow with RGB data ([0..1] for floats or [0..255] for integers).\n",
      "Clipping input data to the valid range for imshow with RGB data ([0..1] for floats or [0..255] for integers).\n"
     ]
    },
    {
     "data": {
      "image/png": "[encoded data removed]",
      "text/plain": [
       "<Figure size 1800x288 with 20 Axes>"
      ]
     },
     "metadata": {},
     "output_type": "display_data"
    }
   ],
   "source": [
    "# specify the image classes\n",
    "classes = ['airplane', 'automobile', 'bird', 'cat', 'deer',\n",
    "           'dog', 'frog', 'horse', 'ship', 'truck']\n",
    "# obtain one batch of training images\n",
    "dataiter = iter(train_loader)\n",
    "images, labels = dataiter.next()\n",
    "images = images.numpy() # convert images to numpy for display\n",
    "\n",
    "# plot the images in the batch, along with the corresponding labels\n",
    "fig = plt.figure(figsize=(25, 4))\n",
    "# display 20 images\n",
    "for idx in np.arange(20):\n",
    "    ax = fig.add_subplot(2, 20/2, idx+1, xticks=[], yticks=[])\n",
    "    imshow(images[idx])\n",
    "    ax.set_title(classes[labels[idx]])\n"
   ]
  },
  {
   "cell_type": "markdown",
   "metadata": {},
   "source": [
    "### Check Class imbalance"
   ]
  },
  {
   "cell_type": "code",
   "execution_count": 12,
   "metadata": {},
   "outputs": [
    {
     "name": "stdout",
     "output_type": "stream",
     "text": [
      "Number of samples in train data 50000 \n",
      "\n",
      "Class airplane : 5000\n",
      "Class automobile : 5000\n",
      "Class bird : 5000\n",
      "Class cat : 5000\n",
      "Class deer : 5000\n",
      "Class dog : 5000\n",
      "Class frog : 5000\n",
      "Class horse : 5000\n",
      "Class ship : 5000\n",
      "Class truck : 5000\n"
     ]
    }
   ],
   "source": [
    "from collections import defaultdict\n",
    "classes = defaultdict(int)\n",
    "\n",
    "classes_list =['airplane', 'automobile', 'bird', 'cat', 'deer',\n",
    "           'dog', 'frog', 'horse', 'ship', 'truck']\n",
    "\n",
    "print('Number of samples in train data %2d \\n' % len(train_ds))\n",
    "for x,y in (train_ds):\n",
    "    if y not in classes:\n",
    "        classes[y] = 1\n",
    "    else: classes[y] = classes[y]+1  \n",
    "        \n",
    "for i in range(10):\n",
    "    print('Class %s : %2d' % (classes_list[i], classes[i]))"
   ]
  },
  {
   "cell_type": "markdown",
   "metadata": {},
   "source": [
    "### Define Class for the network\n",
    "Inherit the filters from vgg-16 by setting pretrained = True/False.   \n",
    "Attach a fully connected layer in the end"
   ]
  },
  {
   "cell_type": "code",
   "execution_count": 13,
   "metadata": {},
   "outputs": [],
   "source": [
    "class Net(nn.Module):\n",
    "    def __init__(self):\n",
    "        super(Net, self).__init__()\n",
    "        vgg = models.vgg16_bn(pretrained=Pretrained)\n",
    "        layers = list(vgg.children())[0][:31]\n",
    "        self.top_model = nn.Sequential(*layers).cuda()\n",
    "        self.bn1 = nn.BatchNorm1d(512)\n",
    "        self.linear1 = nn.Linear(512,10)\n",
    "\n",
    "    def forward(self,x):\n",
    "        x = F.relu(self.top_model(x))\n",
    "        x = nn.AdaptiveAvgPool2d((1,1))(x)\n",
    "        x = x.view(x.shape[0],-1)\n",
    "        x = self.bn1(x)\n",
    "        x = self.linear1(x)\n",
    "        return x\n",
    "    \n",
    "    "
   ]
  },
  {
   "cell_type": "markdown",
   "metadata": {},
   "source": [
    "### Instantiate a Class object and move to GPU"
   ]
  },
  {
   "cell_type": "code",
   "execution_count": 63,
   "metadata": {},
   "outputs": [],
   "source": [
    "net = Net()\n",
    "# move tensors to GPU if CUDA is available\n",
    "if train_on_gpu:\n",
    "    net.cuda()\n",
    "    "
   ]
  },
  {
   "cell_type": "code",
   "execution_count": 33,
   "metadata": {},
   "outputs": [
    {
     "data": {
      "text/plain": [
       "<bound method Module.parameters of Net(\n",
       "  (top_model): Sequential(\n",
       "    (0): Conv2d(3, 64, kernel_size=(3, 3), stride=(1, 1), padding=(1, 1))\n",
       "    (1): BatchNorm2d(64, eps=1e-05, momentum=0.1, affine=True, track_running_stats=True)\n",
       "    (2): ReLU(inplace)\n",
       "    (3): Conv2d(64, 64, kernel_size=(3, 3), stride=(1, 1), padding=(1, 1))\n",
       "    (4): BatchNorm2d(64, eps=1e-05, momentum=0.1, affine=True, track_running_stats=True)\n",
       "    (5): ReLU(inplace)\n",
       "    (6): MaxPool2d(kernel_size=2, stride=2, padding=0, dilation=1, ceil_mode=False)\n",
       "    (7): Conv2d(64, 128, kernel_size=(3, 3), stride=(1, 1), padding=(1, 1))\n",
       "    (8): BatchNorm2d(128, eps=1e-05, momentum=0.1, affine=True, track_running_stats=True)\n",
       "    (9): ReLU(inplace)\n",
       "    (10): Conv2d(128, 128, kernel_size=(3, 3), stride=(1, 1), padding=(1, 1))\n",
       "    (11): BatchNorm2d(128, eps=1e-05, momentum=0.1, affine=True, track_running_stats=True)\n",
       "    (12): ReLU(inplace)\n",
       "    (13): MaxPool2d(kernel_size=2, stride=2, padding=0, dilation=1, ceil_mode=False)\n",
       "    (14): Conv2d(128, 256, kernel_size=(3, 3), stride=(1, 1), padding=(1, 1))\n",
       "    (15): BatchNorm2d(256, eps=1e-05, momentum=0.1, affine=True, track_running_stats=True)\n",
       "    (16): ReLU(inplace)\n",
       "    (17): Conv2d(256, 256, kernel_size=(3, 3), stride=(1, 1), padding=(1, 1))\n",
       "    (18): BatchNorm2d(256, eps=1e-05, momentum=0.1, affine=True, track_running_stats=True)\n",
       "    (19): ReLU(inplace)\n",
       "    (20): Conv2d(256, 256, kernel_size=(3, 3), stride=(1, 1), padding=(1, 1))\n",
       "    (21): BatchNorm2d(256, eps=1e-05, momentum=0.1, affine=True, track_running_stats=True)\n",
       "    (22): ReLU(inplace)\n",
       "    (23): MaxPool2d(kernel_size=2, stride=2, padding=0, dilation=1, ceil_mode=False)\n",
       "    (24): Conv2d(256, 512, kernel_size=(3, 3), stride=(1, 1), padding=(1, 1))\n",
       "    (25): BatchNorm2d(512, eps=1e-05, momentum=0.1, affine=True, track_running_stats=True)\n",
       "    (26): ReLU(inplace)\n",
       "    (27): Conv2d(512, 512, kernel_size=(3, 3), stride=(1, 1), padding=(1, 1))\n",
       "    (28): BatchNorm2d(512, eps=1e-05, momentum=0.1, affine=True, track_running_stats=True)\n",
       "    (29): ReLU(inplace)\n",
       "    (30): Conv2d(512, 512, kernel_size=(3, 3), stride=(1, 1), padding=(1, 1))\n",
       "  )\n",
       "  (bn1): BatchNorm1d(512, eps=1e-05, momentum=0.1, affine=True, track_running_stats=True)\n",
       "  (linear1): Linear(in_features=512, out_features=10, bias=True)\n",
       ")>"
      ]
     },
     "execution_count": 33,
     "metadata": {},
     "output_type": "execute_result"
    }
   ],
   "source": [
    "net.parameters"
   ]
  },
  {
   "cell_type": "markdown",
   "metadata": {},
   "source": [
    "### Checking scheduler output"
   ]
  },
  {
   "cell_type": "code",
   "execution_count": 58,
   "metadata": {},
   "outputs": [],
   "source": [
    "\n",
    "optimizer = optim.SGD([\n",
    "    {'params': net.top_model[0:10].parameters(), 'lr': learning_rate/10, 'momentum': 0.9 },\n",
    "    {'params': net.top_model[10:31].parameters(), 'lr ':learning_rate/3 , 'momentum':0.9 },\n",
    "    {'params': net.linear1.parameters()},\n",
    "    {'params': net.bn1.parameters()},  \n",
    "], lr=learning_rate, momentum=0.9 )"
   ]
  },
  {
   "cell_type": "code",
   "execution_count": 59,
   "metadata": {},
   "outputs": [],
   "source": [
    "scheduler = get_scheduler(optimizer)"
   ]
  },
  {
   "cell_type": "code",
   "execution_count": 60,
   "metadata": {},
   "outputs": [
    {
     "data": {
      "text/plain": [
       "0.0001"
      ]
     },
     "execution_count": 60,
     "metadata": {},
     "output_type": "execute_result"
    }
   ],
   "source": [
    "learning_rate"
   ]
  },
  {
   "cell_type": "markdown",
   "metadata": {},
   "source": [
    "### Learning rate for 4 parameter groups"
   ]
  },
  {
   "cell_type": "code",
   "execution_count": 61,
   "metadata": {},
   "outputs": [
    {
     "data": {
      "text/plain": [
       "[9.999999999999593e-06,\n",
       " 9.99999999999994e-05,\n",
       " 9.99999999999994e-05,\n",
       " 9.99999999999994e-05]"
      ]
     },
     "execution_count": 61,
     "metadata": {},
     "output_type": "execute_result"
    }
   ],
   "source": [
    "scheduler.step()\n",
    "scheduler.get_lr()"
   ]
  },
  {
   "cell_type": "markdown",
   "metadata": {},
   "source": [
    "### Helper Functions"
   ]
  },
  {
   "cell_type": "code",
   "execution_count": 48,
   "metadata": {},
   "outputs": [],
   "source": [
    "def correct(preds, targs):\n",
    "    preds = torch.max(preds, dim=1)[1]\n",
    "    return (preds==targs).float().sum()\n",
    "\n",
    "def get_optimizer(model, lr = 0.1,  momentum=0.9 ):\n",
    "    \"\"\"\n",
    "    Initialize optimizer with the learning rate passed\n",
    "    \"\"\"\n",
    "    optim = torch.optim.SGD([\n",
    "    {'params': model.top_model[0:10].parameters(), 'lr': lr/10, 'momentum': 0.9 },\n",
    "    {'params': model.top_model[10:31].parameters(), 'lr ':lr/3 , 'momentum':0.9 },\n",
    "    {'params': model.linear1.parameters()},\n",
    "    {'params': model.bn1.parameters()},  \n",
    "], lr=lr, momentum=0.9 )\n",
    "    \n",
    "    return optim\n",
    "\n",
    "def get_scheduler(optimizer, lr = 0.1):\n",
    "    \"\"\"\n",
    "    Return Cosine Annealed learning rates\n",
    "    \"\"\"\n",
    "    scheduler = optim.lr_scheduler.CosineAnnealingLR(optimizer, 256*2 , eta_min=lr/10)\n",
    "    return scheduler\n",
    "\n",
    "def save_model(m, p): torch.save(m.state_dict(), p)\n",
    "    \n",
    "def load_model(m, p): m.load_state_dict(torch.load(p))\n"
   ]
  },
  {
   "cell_type": "markdown",
   "metadata": {},
   "source": [
    "### Learning Rate Finder\n",
    "* Choose max_learning rate that is 0.1*learningrate that gives lowest loss"
   ]
  },
  {
   "cell_type": "code",
   "execution_count": 44,
   "metadata": {},
   "outputs": [],
   "source": [
    "def LR_range_finder(train_on_gpu,model, train_dl, lr_low=1e-5, lr_high=1, epochs=2):\n",
    "    losses = []\n",
    "    p = \"mode_tmp.pth\"\n",
    "    save_model(model, str(p))\n",
    "    iterations = epochs * len(train_dl)\n",
    "    delta = (lr_high - lr_low)/iterations\n",
    "    lrs = [lr_low + i*delta for i in range(iterations)]\n",
    "    model.train()\n",
    "    ind = 0\n",
    "    for i in range(epochs):\n",
    "        for x,y in train_dl:\n",
    "            optim = get_optimizer(model, lr=lrs[ind])\n",
    "            if train_on_gpu:\n",
    "                x, y = x.cuda().float(), y.cuda().long()\n",
    "            out = model(x)\n",
    "            loss = F.cross_entropy(out, y)\n",
    "            optim.zero_grad()\n",
    "            loss.backward()\n",
    "            optim.step()\n",
    "            losses.append(loss.item())\n",
    "            ind +=1     \n",
    "    load_model(model, str(p))\n",
    "    return lrs, losses"
   ]
  },
  {
   "cell_type": "code",
   "execution_count": 65,
   "metadata": {},
   "outputs": [
    {
     "data": {
      "image/png": "[encoded data removed]",
      "text/plain": [
       "<Figure size 432x288 with 1 Axes>"
      ]
     },
     "metadata": {},
     "output_type": "display_data"
    }
   ],
   "source": [
    "lrs, losses = LR_range_finder(train_on_gpu,net, train_loader, lr_low=lr_low, lr_high=1)\n",
    "plt.plot([np.log10(l) for l in lrs], losses)\n",
    "plt.show()\n"
   ]
  },
  {
   "cell_type": "code",
   "execution_count": 66,
   "metadata": {},
   "outputs": [
    {
     "data": {
      "image/png": "[encoded data removed]",
      "text/plain": [
       "<Figure size 432x288 with 1 Axes>"
      ]
     },
     "metadata": {},
     "output_type": "display_data"
    }
   ],
   "source": [
    "plt.plot(lrs, losses)\n",
    "plt.show()"
   ]
  },
  {
   "cell_type": "markdown",
   "metadata": {},
   "source": [
    "### Function to train the network"
   ]
  },
  {
   "cell_type": "code",
   "execution_count": 49,
   "metadata": {},
   "outputs": [],
   "source": [
    "def train(train_on_gpu,model, train_dl, valid_dl, epochs=4, name = str('temp')):\n",
    "    \"\"\"\n",
    "    Train the given network, save the model weights when accuracy is lowest, return average loss across epochs\n",
    "    \"\"\"\n",
    "    acc = 0\n",
    "    for i in range(epochs):\n",
    "        model.train()\n",
    "        total = 0\n",
    "        sum_loss = 0\n",
    "        \"\"\"\n",
    "        if i % 10 == 0:\n",
    "            torch.save(model.state_dict(), 'Resnet_1.pth')\n",
    "            \n",
    "        \"\"\"\n",
    "            \n",
    "        for i, (x, y) in enumerate(train_dl):\n",
    "            optim = get_optimizer(model)    \n",
    "            scheduler = get_scheduler(optimizer)\n",
    "            batch = y.shape[0]\n",
    "            # move tensors to GPU if CUDA is available\n",
    "            if train_on_gpu:\n",
    "                x, y = x.cuda().float(), y.cuda().long()\n",
    "            # forward pass: compute predicted outputs by passing inputs to the model\n",
    "            out = model(x)\n",
    "            # calculate the batch loss\n",
    "            loss = F.cross_entropy(out, y)\n",
    "            # set the gradients for tensors to zero to prevent gradient accumulation\n",
    "            optim.zero_grad()\n",
    "            # backward pass\n",
    "            loss.backward()\n",
    "            # Update parameters\n",
    "            optim.step()\n",
    "            scheduler.step()\n",
    "            # update train loss and total images processes\n",
    "            total += batch\n",
    "            sum_loss += batch*(loss.item())\n",
    "            \n",
    "        print(\"train loss\", sum_loss/total)\n",
    "        # Save the model weights which has lowest validation accuracy\n",
    "        val_loss, accuracy = val_metrics(train_on_gpu , model, valid_dl)\n",
    "        if accuracy > acc:\n",
    "            torch.save(model.state_dict(), name)\n",
    "        acc = accuracy\n",
    "            \n",
    "    return sum_loss/total\n"
   ]
  },
  {
   "cell_type": "markdown",
   "metadata": {},
   "source": [
    "### Function to find the performance on validation set"
   ]
  },
  {
   "cell_type": "code",
   "execution_count": 50,
   "metadata": {},
   "outputs": [],
   "source": [
    "def val_metrics(train_on_gpu , model, valid_dl):\n",
    "    \"\"\"\n",
    "    Calculate the accuracy on validation set with weights trained above\n",
    "    \"\"\"\n",
    "    model.eval()\n",
    "    total = 0\n",
    "    sum_loss = 0\n",
    "    total_correct = 0 \n",
    "    for i, (x, y) in enumerate(valid_dl):\n",
    "        batch = y.shape[0]\n",
    "        if train_on_gpu:\n",
    "            x, y = x.cuda().float(), y.cuda().long()\n",
    "        out = model(x)\n",
    "        total_correct += correct(out, y)\n",
    "        loss = F.cross_entropy(out, y)\n",
    "        sum_loss += batch*(loss.item())\n",
    "        total += batch\n",
    "    \n",
    "    print(\"val loss and accuracy\", sum_loss/total, total_correct/total)\n",
    "    return (sum_loss/total, total_correct/total)"
   ]
  },
  {
   "cell_type": "markdown",
   "metadata": {},
   "source": [
    "### Function to get performance per class"
   ]
  },
  {
   "cell_type": "code",
   "execution_count": 51,
   "metadata": {},
   "outputs": [],
   "source": [
    "def val_metrics_new(train_on_gpu , model, valid_dl,batch_size):\n",
    "    \"\"\"\n",
    "    Function that returns class wise accuracy and validation scores\n",
    "    \"\"\"\n",
    "    from sklearn.metrics import classification_report\n",
    "    # track test loss\n",
    "    test_loss = 0.0\n",
    "    total_predictions = []\n",
    "    total_target = []\n",
    "    class_correct = list(0. for i in range(10))\n",
    "    class_total = list(0. for i in range(10))\n",
    "    j = 0\n",
    "    classes = ['airplane', 'automobile', 'bird', 'cat', 'deer',\n",
    "           'dog', 'frog', 'horse', 'ship', 'truck']\n",
    "\n",
    "    model.eval()\n",
    "    # iterate over test data\n",
    "    for data, target in valid_dl:\n",
    "        # move tensors to GPU if CUDA is available\n",
    "        if train_on_gpu:\n",
    "            data, target = data.cuda(), target.cuda()\n",
    "        # forward pass: compute predicted outputs by passing inputs to the model\n",
    "        output = model(data)\n",
    "        # calculate the batch loss\n",
    "        loss = F.cross_entropy(output, target)\n",
    "        # update test loss \n",
    "        test_loss += loss.item()*data.size(0)\n",
    "        # convert output probabilities to predicted class\n",
    "        _, pred = torch.max(output, 1)   \n",
    "        total_predictions.extend(pred)\n",
    "        total_target.extend(target.data.view_as(pred))\n",
    "        # compare predictions to true label\n",
    "        correct_tensor = pred.eq(target.data.view_as(pred))\n",
    "        correct =  np.squeeze(correct_tensor.cpu().numpy())\n",
    "        # calculate test accuracy for each object class\n",
    "        j = j+batch_size\n",
    "        if j > 10000: batch_size = batch_size - (j - 10000)\n",
    "        for i in range(batch_size):\n",
    "            label = target.data[i]\n",
    "            class_correct[label] += correct[i].item()\n",
    "            class_total[label] += 1\n",
    "\n",
    "    # average test loss\n",
    "    test_loss = test_loss/len(test_loader.dataset)\n",
    "    print('Test Loss: {:.6f}\\n'.format(test_loss))\n",
    "\n",
    "    for i in range(10):\n",
    "        if class_total[i] > 0:\n",
    "            print('Test Accuracy of %5s: %2d%% (%2d/%2d)' % (\n",
    "                classes[i], 100 * class_correct[i] / class_total[i],\n",
    "                np.sum(class_correct[i]), np.sum(class_total[i])))\n",
    "        else:\n",
    "            print('Test Accuracy of %5s: N/A (no training examples)' % (classes[i]))\n",
    "            \n",
    "    ### Print per class accuracy\n",
    "\n",
    "    print('\\nTest Accuracy (Overall): %.2f%% (%2d/%2d)' % (\n",
    "        100. * np.sum(class_correct) / np.sum(class_total),\n",
    "        np.sum(class_correct), np.sum(class_total)))\n",
    "    \n",
    "\n",
    "    ### Print Fscore\n",
    "    print(classification_report([int(i) for i in total_target], [int(i) for i in total_predictions]))\n",
    "    \n",
    "    "
   ]
  },
  {
   "cell_type": "markdown",
   "metadata": {},
   "source": [
    "### GET SET TRAIN !"
   ]
  },
  {
   "cell_type": "code",
   "execution_count": 64,
   "metadata": {},
   "outputs": [
    {
     "name": "stdout",
     "output_type": "stream",
     "text": [
      "train loss 0.6896148885917663\n",
      "val loss and accuracy 0.4714955432891846 tensor(0.8360, device='cuda:0')\n",
      "train loss 0.36568616106033325\n",
      "val loss and accuracy 0.40980091509819033 tensor(0.8614, device='cuda:0')\n",
      "train loss 0.29018981209754946\n",
      "val loss and accuracy 0.48246584820747374 tensor(0.8323, device='cuda:0')\n",
      "train loss 0.24067000023841859\n",
      "val loss and accuracy 0.36360113477706907 tensor(0.8731, device='cuda:0')\n",
      "train loss 0.20235957236766816\n",
      "val loss and accuracy 0.37697517170906064 tensor(0.8746, device='cuda:0')\n",
      "train loss 0.17510793254852294\n",
      "val loss and accuracy 0.33176605744361876 tensor(0.8870, device='cuda:0')\n",
      "train loss 0.1499534163570404\n",
      "val loss and accuracy 0.3521862251281738 tensor(0.8850, device='cuda:0')\n",
      "train loss 0.1314653193283081\n",
      "val loss and accuracy 0.3389604682445526 tensor(0.8906, device='cuda:0')\n",
      "train loss 0.1178908668422699\n",
      "val loss and accuracy 0.4454669640541077 tensor(0.8683, device='cuda:0')\n",
      "train loss 0.10372410578727723\n",
      "val loss and accuracy 0.4873077225446701 tensor(0.8622, device='cuda:0')\n",
      "----End of Train\n"
     ]
    }
   ],
   "source": [
    "from datetime import datetime\n",
    "start = datetime.now() \n",
    "loss = train(train_on_gpu, net, train_loader, test_loader, epochs = 10, name = str('temp'))\n",
    "end = datetime.now()\n",
    "t = 'Time elapsed {}'.format(end - start)\n",
    "print(\"----End of Train\")"
   ]
  },
  {
   "cell_type": "code",
   "execution_count": 51,
   "metadata": {},
   "outputs": [],
   "source": [
    "#torch.save(net.state_dict(), 'vgg16_sgdonly.pth')\n",
    "model = Net().cuda()\n",
    "model.load_state_dict(torch.load('temp'))"
   ]
  },
  {
   "cell_type": "markdown",
   "metadata": {},
   "source": [
    "### Get the per class validation performance"
   ]
  },
  {
   "cell_type": "code",
   "execution_count": 52,
   "metadata": {},
   "outputs": [
    {
     "name": "stdout",
     "output_type": "stream",
     "text": [
      "val loss and accuracy 0.31361553654670715 tensor(0.8998, device='cuda:0')\n",
      "\n",
      "\n",
      "Test Loss: 0.311872\n",
      "\n",
      "Test Accuracy of airplane: 91% (910/1000)\n",
      "Test Accuracy of automobile: 94% (943/1000)\n",
      "Test Accuracy of  bird: 90% (903/1000)\n",
      "Test Accuracy of   cat: 77% (773/1000)\n",
      "Test Accuracy of  deer: 90% (906/1000)\n",
      "Test Accuracy of   dog: 82% (821/1000)\n",
      "Test Accuracy of  frog: 93% (932/1000)\n",
      "Test Accuracy of horse: 89% (897/1000)\n",
      "Test Accuracy of  ship: 94% (943/1000)\n",
      "Test Accuracy of truck: 95% (952/1000)\n",
      "\n",
      "Test Accuracy (Overall): 89.80% (8980/10000)\n",
      "             precision    recall  f1-score   support\n",
      "\n",
      "          0       0.92      0.91      0.91      1000\n",
      "          1       0.95      0.94      0.95      1000\n",
      "          2       0.84      0.90      0.87      1000\n",
      "          3       0.81      0.77      0.79      1000\n",
      "          4       0.89      0.91      0.90      1000\n",
      "          5       0.83      0.82      0.82      1000\n",
      "          6       0.94      0.93      0.94      1000\n",
      "          7       0.96      0.90      0.93      1000\n",
      "          8       0.94      0.94      0.94      1000\n",
      "          9       0.91      0.95      0.93      1000\n",
      "\n",
      "avg / total       0.90      0.90      0.90     10000\n",
      "\n"
     ]
    }
   ],
   "source": [
    "val_metrics(train_on_gpu, model,test_loader)\n",
    "print('\\n')\n",
    "val_metrics_new(train_on_gpu, model,test_loader,bs)"
   ]
  }
 ],
 "metadata": {
  "kernelspec": {
   "display_name": "Python 3",
   "language": "python",
   "name": "python3"
  },
  "language_info": {
   "codemirror_mode": {
    "name": "ipython",
    "version": 3
   },
   "file_extension": ".py",
   "mimetype": "text/x-python",
   "name": "python",
   "nbconvert_exporter": "python",
   "pygments_lexer": "ipython3",
   "version": "3.7.1"
  }
 },
 "nbformat": 4,
 "nbformat_minor": 2
}
